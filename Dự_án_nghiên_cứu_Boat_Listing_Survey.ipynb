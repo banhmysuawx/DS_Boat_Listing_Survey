{
  "cells": [
    {
      "cell_type": "markdown",
      "source": [
        "#Dự án nghiên cứu - Boat Listing Survey\n",
        "**Mục tiêu của dự án**\n",
        "1. Xậy dựng một mô hình dự đoán được lượt view, với độ chính xác lớn hơn 50%\n",
        "2. Đưa ra được đề xuất bỏ đi những cột không cần thiết hoặc không gây ảnh hưởng tới đến lượt view -> giảm thời gian đăng kí và tăng số lượng người đăng kí.\n",
        "3. Dựa vào biểu đồ, phân tích và đưa ra được đề xuất những vị trí nào cần được marketing nhiều hơn."
      ],
      "metadata": {
        "id": "RyjfYEkFuJQx"
      }
    },
    {
      "cell_type": "markdown",
      "source": [
        "#Nhập dữ liệu, thư viên và thuật toán cần thiết"
      ],
      "metadata": {
        "id": "V2FRO7mbE2IV"
      }
    },
    {
      "cell_type": "markdown",
      "source": [
        "## Nhập các thư viện thuật toán cần thiết"
      ],
      "metadata": {
        "id": "TdWn4hras5Kx"
      }
    },
    {
      "cell_type": "code",
      "execution_count": null,
      "metadata": {
        "id": "pIWoOoJej4Iy"
      },
      "outputs": [],
      "source": [
        "import pandas as pd\n",
        "import matplotlib.pyplot as plt\n",
        "import seaborn as sns\n",
        "import numpy as np\n",
        "# Algorithms\n",
        "from sklearn.metrics import accuracy_score\n",
        "from sklearn.model_selection import train_test_split\n",
        "from sklearn import linear_model\n",
        "from sklearn.linear_model import LogisticRegression\n",
        "from sklearn.ensemble import RandomForestClassifier\n",
        "from sklearn.linear_model import Perceptron\n",
        "from sklearn.linear_model import SGDClassifier\n",
        "from sklearn.tree import DecisionTreeClassifier\n",
        "from sklearn.neighbors import KNeighborsClassifier\n",
        "from sklearn.svm import SVC, LinearSVC\n",
        "from sklearn.naive_bayes import GaussianNB"
      ]
    },
    {
      "cell_type": "markdown",
      "source": [
        "## Nhập dữ liệu cần làm và tạo các DataFrame"
      ],
      "metadata": {
        "id": "WWRr4j99tKh0"
      }
    },
    {
      "cell_type": "code",
      "execution_count": null,
      "metadata": {
        "colab": {
          "base_uri": "https://localhost:8080/",
          "height": 367
        },
        "id": "Jp3ef9AikqAi",
        "outputId": "b0e86519-cd4b-4fca-8ea8-573e5e4b13d1"
      },
      "outputs": [
        {
          "output_type": "execute_result",
          "data": {
            "text/plain": [
              "       Price            Boat Type          Manufacturer                 Type  \\\n",
              "0   CHF 3337          Motor Yacht  Rigiflex power boats  new boat from stock   \n",
              "1   EUR 3490  Center console boat     Terhi power boats  new boat from stock   \n",
              "2   CHF 3770           Sport Boat    Marine power boats  new boat from stock   \n",
              "3  DKK 25900           Sport Boat    Pioner power boats  new boat from stock   \n",
              "4   EUR 3399         Fishing Boat    Linder power boats  new boat from stock   \n",
              "\n",
              "   Year Built  Length  Width       Material  \\\n",
              "0        2017    4.00   1.90            NaN   \n",
              "1        2020    4.00   1.50  Thermoplastic   \n",
              "2           0    3.69   1.42      Aluminium   \n",
              "3        2020    3.00   1.00            NaN   \n",
              "4        2019    3.55   1.46      Aluminium   \n",
              "\n",
              "                                     Location  Number of views last 7 days  \n",
              "0      Switzerland Â» Lake Geneva Â» VÃ©senaz                          226  \n",
              "1                    Germany Â» BÃ¶nningstedt                           75  \n",
              "2  Switzerland Â» Lake of Zurich Â» StÃ¤fa ZH                          124  \n",
              "3                        Denmark Â» Svendborg                           64  \n",
              "4               Germany Â» Bayern Â» MÃ¼nchen                           58  "
            ],
            "text/html": [
              "\n",
              "  <div id=\"df-456a6e98-a381-475a-97d6-52442fea6db4\">\n",
              "    <div class=\"colab-df-container\">\n",
              "      <div>\n",
              "<style scoped>\n",
              "    .dataframe tbody tr th:only-of-type {\n",
              "        vertical-align: middle;\n",
              "    }\n",
              "\n",
              "    .dataframe tbody tr th {\n",
              "        vertical-align: top;\n",
              "    }\n",
              "\n",
              "    .dataframe thead th {\n",
              "        text-align: right;\n",
              "    }\n",
              "</style>\n",
              "<table border=\"1\" class=\"dataframe\">\n",
              "  <thead>\n",
              "    <tr style=\"text-align: right;\">\n",
              "      <th></th>\n",
              "      <th>Price</th>\n",
              "      <th>Boat Type</th>\n",
              "      <th>Manufacturer</th>\n",
              "      <th>Type</th>\n",
              "      <th>Year Built</th>\n",
              "      <th>Length</th>\n",
              "      <th>Width</th>\n",
              "      <th>Material</th>\n",
              "      <th>Location</th>\n",
              "      <th>Number of views last 7 days</th>\n",
              "    </tr>\n",
              "  </thead>\n",
              "  <tbody>\n",
              "    <tr>\n",
              "      <th>0</th>\n",
              "      <td>CHF 3337</td>\n",
              "      <td>Motor Yacht</td>\n",
              "      <td>Rigiflex power boats</td>\n",
              "      <td>new boat from stock</td>\n",
              "      <td>2017</td>\n",
              "      <td>4.00</td>\n",
              "      <td>1.90</td>\n",
              "      <td>NaN</td>\n",
              "      <td>Switzerland Â» Lake Geneva Â» VÃ©senaz</td>\n",
              "      <td>226</td>\n",
              "    </tr>\n",
              "    <tr>\n",
              "      <th>1</th>\n",
              "      <td>EUR 3490</td>\n",
              "      <td>Center console boat</td>\n",
              "      <td>Terhi power boats</td>\n",
              "      <td>new boat from stock</td>\n",
              "      <td>2020</td>\n",
              "      <td>4.00</td>\n",
              "      <td>1.50</td>\n",
              "      <td>Thermoplastic</td>\n",
              "      <td>Germany Â» BÃ¶nningstedt</td>\n",
              "      <td>75</td>\n",
              "    </tr>\n",
              "    <tr>\n",
              "      <th>2</th>\n",
              "      <td>CHF 3770</td>\n",
              "      <td>Sport Boat</td>\n",
              "      <td>Marine power boats</td>\n",
              "      <td>new boat from stock</td>\n",
              "      <td>0</td>\n",
              "      <td>3.69</td>\n",
              "      <td>1.42</td>\n",
              "      <td>Aluminium</td>\n",
              "      <td>Switzerland Â» Lake of Zurich Â» StÃ¤fa ZH</td>\n",
              "      <td>124</td>\n",
              "    </tr>\n",
              "    <tr>\n",
              "      <th>3</th>\n",
              "      <td>DKK 25900</td>\n",
              "      <td>Sport Boat</td>\n",
              "      <td>Pioner power boats</td>\n",
              "      <td>new boat from stock</td>\n",
              "      <td>2020</td>\n",
              "      <td>3.00</td>\n",
              "      <td>1.00</td>\n",
              "      <td>NaN</td>\n",
              "      <td>Denmark Â» Svendborg</td>\n",
              "      <td>64</td>\n",
              "    </tr>\n",
              "    <tr>\n",
              "      <th>4</th>\n",
              "      <td>EUR 3399</td>\n",
              "      <td>Fishing Boat</td>\n",
              "      <td>Linder power boats</td>\n",
              "      <td>new boat from stock</td>\n",
              "      <td>2019</td>\n",
              "      <td>3.55</td>\n",
              "      <td>1.46</td>\n",
              "      <td>Aluminium</td>\n",
              "      <td>Germany Â» Bayern Â» MÃ¼nchen</td>\n",
              "      <td>58</td>\n",
              "    </tr>\n",
              "  </tbody>\n",
              "</table>\n",
              "</div>\n",
              "      <button class=\"colab-df-convert\" onclick=\"convertToInteractive('df-456a6e98-a381-475a-97d6-52442fea6db4')\"\n",
              "              title=\"Convert this dataframe to an interactive table.\"\n",
              "              style=\"display:none;\">\n",
              "        \n",
              "  <svg xmlns=\"http://www.w3.org/2000/svg\" height=\"24px\"viewBox=\"0 0 24 24\"\n",
              "       width=\"24px\">\n",
              "    <path d=\"M0 0h24v24H0V0z\" fill=\"none\"/>\n",
              "    <path d=\"M18.56 5.44l.94 2.06.94-2.06 2.06-.94-2.06-.94-.94-2.06-.94 2.06-2.06.94zm-11 1L8.5 8.5l.94-2.06 2.06-.94-2.06-.94L8.5 2.5l-.94 2.06-2.06.94zm10 10l.94 2.06.94-2.06 2.06-.94-2.06-.94-.94-2.06-.94 2.06-2.06.94z\"/><path d=\"M17.41 7.96l-1.37-1.37c-.4-.4-.92-.59-1.43-.59-.52 0-1.04.2-1.43.59L10.3 9.45l-7.72 7.72c-.78.78-.78 2.05 0 2.83L4 21.41c.39.39.9.59 1.41.59.51 0 1.02-.2 1.41-.59l7.78-7.78 2.81-2.81c.8-.78.8-2.07 0-2.86zM5.41 20L4 18.59l7.72-7.72 1.47 1.35L5.41 20z\"/>\n",
              "  </svg>\n",
              "      </button>\n",
              "      \n",
              "  <style>\n",
              "    .colab-df-container {\n",
              "      display:flex;\n",
              "      flex-wrap:wrap;\n",
              "      gap: 12px;\n",
              "    }\n",
              "\n",
              "    .colab-df-convert {\n",
              "      background-color: #E8F0FE;\n",
              "      border: none;\n",
              "      border-radius: 50%;\n",
              "      cursor: pointer;\n",
              "      display: none;\n",
              "      fill: #1967D2;\n",
              "      height: 32px;\n",
              "      padding: 0 0 0 0;\n",
              "      width: 32px;\n",
              "    }\n",
              "\n",
              "    .colab-df-convert:hover {\n",
              "      background-color: #E2EBFA;\n",
              "      box-shadow: 0px 1px 2px rgba(60, 64, 67, 0.3), 0px 1px 3px 1px rgba(60, 64, 67, 0.15);\n",
              "      fill: #174EA6;\n",
              "    }\n",
              "\n",
              "    [theme=dark] .colab-df-convert {\n",
              "      background-color: #3B4455;\n",
              "      fill: #D2E3FC;\n",
              "    }\n",
              "\n",
              "    [theme=dark] .colab-df-convert:hover {\n",
              "      background-color: #434B5C;\n",
              "      box-shadow: 0px 1px 3px 1px rgba(0, 0, 0, 0.15);\n",
              "      filter: drop-shadow(0px 1px 2px rgba(0, 0, 0, 0.3));\n",
              "      fill: #FFFFFF;\n",
              "    }\n",
              "  </style>\n",
              "\n",
              "      <script>\n",
              "        const buttonEl =\n",
              "          document.querySelector('#df-456a6e98-a381-475a-97d6-52442fea6db4 button.colab-df-convert');\n",
              "        buttonEl.style.display =\n",
              "          google.colab.kernel.accessAllowed ? 'block' : 'none';\n",
              "\n",
              "        async function convertToInteractive(key) {\n",
              "          const element = document.querySelector('#df-456a6e98-a381-475a-97d6-52442fea6db4');\n",
              "          const dataTable =\n",
              "            await google.colab.kernel.invokeFunction('convertToInteractive',\n",
              "                                                     [key], {});\n",
              "          if (!dataTable) return;\n",
              "\n",
              "          const docLinkHtml = 'Like what you see? Visit the ' +\n",
              "            '<a target=\"_blank\" href=https://colab.research.google.com/notebooks/data_table.ipynb>data table notebook</a>'\n",
              "            + ' to learn more about interactive tables.';\n",
              "          element.innerHTML = '';\n",
              "          dataTable['output_type'] = 'display_data';\n",
              "          await google.colab.output.renderOutput(dataTable, element);\n",
              "          const docLink = document.createElement('div');\n",
              "          docLink.innerHTML = docLinkHtml;\n",
              "          element.appendChild(docLink);\n",
              "        }\n",
              "      </script>\n",
              "    </div>\n",
              "  </div>\n",
              "  "
            ]
          },
          "metadata": {},
          "execution_count": 2
        }
      ],
      "source": [
        "data = pd.read_csv('/content/boat_data.csv')\n",
        "data.head(5)"
      ]
    },
    {
      "cell_type": "code",
      "execution_count": null,
      "metadata": {
        "colab": {
          "base_uri": "https://localhost:8080/",
          "height": 367
        },
        "id": "PMwZHidPlAwD",
        "outputId": "fcc1d26a-62ef-4e95-80d1-c5154b86bfff"
      },
      "outputs": [
        {
          "output_type": "execute_result",
          "data": {
            "text/plain": [
              "       Price            Boat Type          Manufacturer                 Type  \\\n",
              "0   CHF 3337          Motor Yacht  Rigiflex power boats  new boat from stock   \n",
              "1   EUR 3490  Center console boat     Terhi power boats  new boat from stock   \n",
              "2   CHF 3770           Sport Boat    Marine power boats  new boat from stock   \n",
              "3  DKK 25900           Sport Boat    Pioner power boats  new boat from stock   \n",
              "4   EUR 3399         Fishing Boat    Linder power boats  new boat from stock   \n",
              "\n",
              "   Year Built  Length  Width       Material  \\\n",
              "0        2017    4.00   1.90            NaN   \n",
              "1        2020    4.00   1.50  Thermoplastic   \n",
              "2           0    3.69   1.42      Aluminium   \n",
              "3        2020    3.00   1.00            NaN   \n",
              "4        2019    3.55   1.46      Aluminium   \n",
              "\n",
              "                                     Location  Number of views last 7 days  \n",
              "0      Switzerland Â» Lake Geneva Â» VÃ©senaz                          226  \n",
              "1                    Germany Â» BÃ¶nningstedt                           75  \n",
              "2  Switzerland Â» Lake of Zurich Â» StÃ¤fa ZH                          124  \n",
              "3                        Denmark Â» Svendborg                           64  \n",
              "4               Germany Â» Bayern Â» MÃ¼nchen                           58  "
            ],
            "text/html": [
              "\n",
              "  <div id=\"df-4253effd-ee4f-43f1-80fa-45589815382a\">\n",
              "    <div class=\"colab-df-container\">\n",
              "      <div>\n",
              "<style scoped>\n",
              "    .dataframe tbody tr th:only-of-type {\n",
              "        vertical-align: middle;\n",
              "    }\n",
              "\n",
              "    .dataframe tbody tr th {\n",
              "        vertical-align: top;\n",
              "    }\n",
              "\n",
              "    .dataframe thead th {\n",
              "        text-align: right;\n",
              "    }\n",
              "</style>\n",
              "<table border=\"1\" class=\"dataframe\">\n",
              "  <thead>\n",
              "    <tr style=\"text-align: right;\">\n",
              "      <th></th>\n",
              "      <th>Price</th>\n",
              "      <th>Boat Type</th>\n",
              "      <th>Manufacturer</th>\n",
              "      <th>Type</th>\n",
              "      <th>Year Built</th>\n",
              "      <th>Length</th>\n",
              "      <th>Width</th>\n",
              "      <th>Material</th>\n",
              "      <th>Location</th>\n",
              "      <th>Number of views last 7 days</th>\n",
              "    </tr>\n",
              "  </thead>\n",
              "  <tbody>\n",
              "    <tr>\n",
              "      <th>0</th>\n",
              "      <td>CHF 3337</td>\n",
              "      <td>Motor Yacht</td>\n",
              "      <td>Rigiflex power boats</td>\n",
              "      <td>new boat from stock</td>\n",
              "      <td>2017</td>\n",
              "      <td>4.00</td>\n",
              "      <td>1.90</td>\n",
              "      <td>NaN</td>\n",
              "      <td>Switzerland Â» Lake Geneva Â» VÃ©senaz</td>\n",
              "      <td>226</td>\n",
              "    </tr>\n",
              "    <tr>\n",
              "      <th>1</th>\n",
              "      <td>EUR 3490</td>\n",
              "      <td>Center console boat</td>\n",
              "      <td>Terhi power boats</td>\n",
              "      <td>new boat from stock</td>\n",
              "      <td>2020</td>\n",
              "      <td>4.00</td>\n",
              "      <td>1.50</td>\n",
              "      <td>Thermoplastic</td>\n",
              "      <td>Germany Â» BÃ¶nningstedt</td>\n",
              "      <td>75</td>\n",
              "    </tr>\n",
              "    <tr>\n",
              "      <th>2</th>\n",
              "      <td>CHF 3770</td>\n",
              "      <td>Sport Boat</td>\n",
              "      <td>Marine power boats</td>\n",
              "      <td>new boat from stock</td>\n",
              "      <td>0</td>\n",
              "      <td>3.69</td>\n",
              "      <td>1.42</td>\n",
              "      <td>Aluminium</td>\n",
              "      <td>Switzerland Â» Lake of Zurich Â» StÃ¤fa ZH</td>\n",
              "      <td>124</td>\n",
              "    </tr>\n",
              "    <tr>\n",
              "      <th>3</th>\n",
              "      <td>DKK 25900</td>\n",
              "      <td>Sport Boat</td>\n",
              "      <td>Pioner power boats</td>\n",
              "      <td>new boat from stock</td>\n",
              "      <td>2020</td>\n",
              "      <td>3.00</td>\n",
              "      <td>1.00</td>\n",
              "      <td>NaN</td>\n",
              "      <td>Denmark Â» Svendborg</td>\n",
              "      <td>64</td>\n",
              "    </tr>\n",
              "    <tr>\n",
              "      <th>4</th>\n",
              "      <td>EUR 3399</td>\n",
              "      <td>Fishing Boat</td>\n",
              "      <td>Linder power boats</td>\n",
              "      <td>new boat from stock</td>\n",
              "      <td>2019</td>\n",
              "      <td>3.55</td>\n",
              "      <td>1.46</td>\n",
              "      <td>Aluminium</td>\n",
              "      <td>Germany Â» Bayern Â» MÃ¼nchen</td>\n",
              "      <td>58</td>\n",
              "    </tr>\n",
              "  </tbody>\n",
              "</table>\n",
              "</div>\n",
              "      <button class=\"colab-df-convert\" onclick=\"convertToInteractive('df-4253effd-ee4f-43f1-80fa-45589815382a')\"\n",
              "              title=\"Convert this dataframe to an interactive table.\"\n",
              "              style=\"display:none;\">\n",
              "        \n",
              "  <svg xmlns=\"http://www.w3.org/2000/svg\" height=\"24px\"viewBox=\"0 0 24 24\"\n",
              "       width=\"24px\">\n",
              "    <path d=\"M0 0h24v24H0V0z\" fill=\"none\"/>\n",
              "    <path d=\"M18.56 5.44l.94 2.06.94-2.06 2.06-.94-2.06-.94-.94-2.06-.94 2.06-2.06.94zm-11 1L8.5 8.5l.94-2.06 2.06-.94-2.06-.94L8.5 2.5l-.94 2.06-2.06.94zm10 10l.94 2.06.94-2.06 2.06-.94-2.06-.94-.94-2.06-.94 2.06-2.06.94z\"/><path d=\"M17.41 7.96l-1.37-1.37c-.4-.4-.92-.59-1.43-.59-.52 0-1.04.2-1.43.59L10.3 9.45l-7.72 7.72c-.78.78-.78 2.05 0 2.83L4 21.41c.39.39.9.59 1.41.59.51 0 1.02-.2 1.41-.59l7.78-7.78 2.81-2.81c.8-.78.8-2.07 0-2.86zM5.41 20L4 18.59l7.72-7.72 1.47 1.35L5.41 20z\"/>\n",
              "  </svg>\n",
              "      </button>\n",
              "      \n",
              "  <style>\n",
              "    .colab-df-container {\n",
              "      display:flex;\n",
              "      flex-wrap:wrap;\n",
              "      gap: 12px;\n",
              "    }\n",
              "\n",
              "    .colab-df-convert {\n",
              "      background-color: #E8F0FE;\n",
              "      border: none;\n",
              "      border-radius: 50%;\n",
              "      cursor: pointer;\n",
              "      display: none;\n",
              "      fill: #1967D2;\n",
              "      height: 32px;\n",
              "      padding: 0 0 0 0;\n",
              "      width: 32px;\n",
              "    }\n",
              "\n",
              "    .colab-df-convert:hover {\n",
              "      background-color: #E2EBFA;\n",
              "      box-shadow: 0px 1px 2px rgba(60, 64, 67, 0.3), 0px 1px 3px 1px rgba(60, 64, 67, 0.15);\n",
              "      fill: #174EA6;\n",
              "    }\n",
              "\n",
              "    [theme=dark] .colab-df-convert {\n",
              "      background-color: #3B4455;\n",
              "      fill: #D2E3FC;\n",
              "    }\n",
              "\n",
              "    [theme=dark] .colab-df-convert:hover {\n",
              "      background-color: #434B5C;\n",
              "      box-shadow: 0px 1px 3px 1px rgba(0, 0, 0, 0.15);\n",
              "      filter: drop-shadow(0px 1px 2px rgba(0, 0, 0, 0.3));\n",
              "      fill: #FFFFFF;\n",
              "    }\n",
              "  </style>\n",
              "\n",
              "      <script>\n",
              "        const buttonEl =\n",
              "          document.querySelector('#df-4253effd-ee4f-43f1-80fa-45589815382a button.colab-df-convert');\n",
              "        buttonEl.style.display =\n",
              "          google.colab.kernel.accessAllowed ? 'block' : 'none';\n",
              "\n",
              "        async function convertToInteractive(key) {\n",
              "          const element = document.querySelector('#df-4253effd-ee4f-43f1-80fa-45589815382a');\n",
              "          const dataTable =\n",
              "            await google.colab.kernel.invokeFunction('convertToInteractive',\n",
              "                                                     [key], {});\n",
              "          if (!dataTable) return;\n",
              "\n",
              "          const docLinkHtml = 'Like what you see? Visit the ' +\n",
              "            '<a target=\"_blank\" href=https://colab.research.google.com/notebooks/data_table.ipynb>data table notebook</a>'\n",
              "            + ' to learn more about interactive tables.';\n",
              "          element.innerHTML = '';\n",
              "          dataTable['output_type'] = 'display_data';\n",
              "          await google.colab.output.renderOutput(dataTable, element);\n",
              "          const docLink = document.createElement('div');\n",
              "          docLink.innerHTML = docLinkHtml;\n",
              "          element.appendChild(docLink);\n",
              "        }\n",
              "      </script>\n",
              "    </div>\n",
              "  </div>\n",
              "  "
            ]
          },
          "metadata": {},
          "execution_count": 3
        }
      ],
      "source": [
        "#Tạo data1 = data để tránh chạm vào dữ liệu gốc\n",
        "data1= data\n",
        "data1.head(5)"
      ]
    },
    {
      "cell_type": "markdown",
      "source": [
        "#Kiểm tra dữ liệu và kế hoạch xử lý dữ liệu."
      ],
      "metadata": {
        "id": "NRH528RhtwFL"
      }
    },
    {
      "cell_type": "markdown",
      "source": [
        "##Kiểm tra dữ liệu"
      ],
      "metadata": {
        "id": "OMX4nVx2FF2p"
      }
    },
    {
      "cell_type": "code",
      "execution_count": null,
      "metadata": {
        "colab": {
          "base_uri": "https://localhost:8080/"
        },
        "id": "EenuHHMPTCwa",
        "outputId": "43053a2c-3ae2-4da7-d759-6f3e932f58a5"
      },
      "outputs": [
        {
          "output_type": "stream",
          "name": "stdout",
          "text": [
            "<class 'pandas.core.frame.DataFrame'>\n",
            "RangeIndex: 9888 entries, 0 to 9887\n",
            "Data columns (total 10 columns):\n",
            " #   Column                       Non-Null Count  Dtype  \n",
            "---  ------                       --------------  -----  \n",
            " 0   Price                        9888 non-null   object \n",
            " 1   Boat Type                    9888 non-null   object \n",
            " 2   Manufacturer                 8550 non-null   object \n",
            " 3   Type                         9882 non-null   object \n",
            " 4   Year Built                   9888 non-null   int64  \n",
            " 5   Length                       9879 non-null   float64\n",
            " 6   Width                        9832 non-null   float64\n",
            " 7   Material                     8139 non-null   object \n",
            " 8   Location                     9852 non-null   object \n",
            " 9   Number of views last 7 days  9888 non-null   int64  \n",
            "dtypes: float64(2), int64(2), object(6)\n",
            "memory usage: 772.6+ KB\n",
            "None\n"
          ]
        }
      ],
      "source": [
        "#Kiểm tra thông tin của dữ liệu\n",
        "print(data1.info())"
      ]
    },
    {
      "cell_type": "code",
      "source": [
        "#Kiểm tra có bao nhiêu thông tin bị mất và phần trăm dữ liệu bị mất so với tổng số.\n",
        "total = data1.isnull().sum().sort_values(ascending=False)\n",
        "percent_1 = data1.isnull().sum()/data1.isnull().count()*100\n",
        "percent_2 = (round(percent_1, 1)).sort_values(ascending=False)\n",
        "missing_data = pd.concat([total, percent_2], axis=1, keys=['Total', '%'])\n",
        "missing_data.head(5)"
      ],
      "metadata": {
        "colab": {
          "base_uri": "https://localhost:8080/",
          "height": 204
        },
        "id": "97QdbS1-Gech",
        "outputId": "640ed499-5460-4b42-dc6f-fe92037c97a2"
      },
      "execution_count": null,
      "outputs": [
        {
          "output_type": "execute_result",
          "data": {
            "text/plain": [
              "              Total     %\n",
              "Material       1749  17.7\n",
              "Manufacturer   1338  13.5\n",
              "Width            56   0.6\n",
              "Location         36   0.4\n",
              "Length            9   0.1"
            ],
            "text/html": [
              "\n",
              "  <div id=\"df-d2e16954-52a9-49f1-8d00-6b7a6bb7367b\">\n",
              "    <div class=\"colab-df-container\">\n",
              "      <div>\n",
              "<style scoped>\n",
              "    .dataframe tbody tr th:only-of-type {\n",
              "        vertical-align: middle;\n",
              "    }\n",
              "\n",
              "    .dataframe tbody tr th {\n",
              "        vertical-align: top;\n",
              "    }\n",
              "\n",
              "    .dataframe thead th {\n",
              "        text-align: right;\n",
              "    }\n",
              "</style>\n",
              "<table border=\"1\" class=\"dataframe\">\n",
              "  <thead>\n",
              "    <tr style=\"text-align: right;\">\n",
              "      <th></th>\n",
              "      <th>Total</th>\n",
              "      <th>%</th>\n",
              "    </tr>\n",
              "  </thead>\n",
              "  <tbody>\n",
              "    <tr>\n",
              "      <th>Material</th>\n",
              "      <td>1749</td>\n",
              "      <td>17.7</td>\n",
              "    </tr>\n",
              "    <tr>\n",
              "      <th>Manufacturer</th>\n",
              "      <td>1338</td>\n",
              "      <td>13.5</td>\n",
              "    </tr>\n",
              "    <tr>\n",
              "      <th>Width</th>\n",
              "      <td>56</td>\n",
              "      <td>0.6</td>\n",
              "    </tr>\n",
              "    <tr>\n",
              "      <th>Location</th>\n",
              "      <td>36</td>\n",
              "      <td>0.4</td>\n",
              "    </tr>\n",
              "    <tr>\n",
              "      <th>Length</th>\n",
              "      <td>9</td>\n",
              "      <td>0.1</td>\n",
              "    </tr>\n",
              "  </tbody>\n",
              "</table>\n",
              "</div>\n",
              "      <button class=\"colab-df-convert\" onclick=\"convertToInteractive('df-d2e16954-52a9-49f1-8d00-6b7a6bb7367b')\"\n",
              "              title=\"Convert this dataframe to an interactive table.\"\n",
              "              style=\"display:none;\">\n",
              "        \n",
              "  <svg xmlns=\"http://www.w3.org/2000/svg\" height=\"24px\"viewBox=\"0 0 24 24\"\n",
              "       width=\"24px\">\n",
              "    <path d=\"M0 0h24v24H0V0z\" fill=\"none\"/>\n",
              "    <path d=\"M18.56 5.44l.94 2.06.94-2.06 2.06-.94-2.06-.94-.94-2.06-.94 2.06-2.06.94zm-11 1L8.5 8.5l.94-2.06 2.06-.94-2.06-.94L8.5 2.5l-.94 2.06-2.06.94zm10 10l.94 2.06.94-2.06 2.06-.94-2.06-.94-.94-2.06-.94 2.06-2.06.94z\"/><path d=\"M17.41 7.96l-1.37-1.37c-.4-.4-.92-.59-1.43-.59-.52 0-1.04.2-1.43.59L10.3 9.45l-7.72 7.72c-.78.78-.78 2.05 0 2.83L4 21.41c.39.39.9.59 1.41.59.51 0 1.02-.2 1.41-.59l7.78-7.78 2.81-2.81c.8-.78.8-2.07 0-2.86zM5.41 20L4 18.59l7.72-7.72 1.47 1.35L5.41 20z\"/>\n",
              "  </svg>\n",
              "      </button>\n",
              "      \n",
              "  <style>\n",
              "    .colab-df-container {\n",
              "      display:flex;\n",
              "      flex-wrap:wrap;\n",
              "      gap: 12px;\n",
              "    }\n",
              "\n",
              "    .colab-df-convert {\n",
              "      background-color: #E8F0FE;\n",
              "      border: none;\n",
              "      border-radius: 50%;\n",
              "      cursor: pointer;\n",
              "      display: none;\n",
              "      fill: #1967D2;\n",
              "      height: 32px;\n",
              "      padding: 0 0 0 0;\n",
              "      width: 32px;\n",
              "    }\n",
              "\n",
              "    .colab-df-convert:hover {\n",
              "      background-color: #E2EBFA;\n",
              "      box-shadow: 0px 1px 2px rgba(60, 64, 67, 0.3), 0px 1px 3px 1px rgba(60, 64, 67, 0.15);\n",
              "      fill: #174EA6;\n",
              "    }\n",
              "\n",
              "    [theme=dark] .colab-df-convert {\n",
              "      background-color: #3B4455;\n",
              "      fill: #D2E3FC;\n",
              "    }\n",
              "\n",
              "    [theme=dark] .colab-df-convert:hover {\n",
              "      background-color: #434B5C;\n",
              "      box-shadow: 0px 1px 3px 1px rgba(0, 0, 0, 0.15);\n",
              "      filter: drop-shadow(0px 1px 2px rgba(0, 0, 0, 0.3));\n",
              "      fill: #FFFFFF;\n",
              "    }\n",
              "  </style>\n",
              "\n",
              "      <script>\n",
              "        const buttonEl =\n",
              "          document.querySelector('#df-d2e16954-52a9-49f1-8d00-6b7a6bb7367b button.colab-df-convert');\n",
              "        buttonEl.style.display =\n",
              "          google.colab.kernel.accessAllowed ? 'block' : 'none';\n",
              "\n",
              "        async function convertToInteractive(key) {\n",
              "          const element = document.querySelector('#df-d2e16954-52a9-49f1-8d00-6b7a6bb7367b');\n",
              "          const dataTable =\n",
              "            await google.colab.kernel.invokeFunction('convertToInteractive',\n",
              "                                                     [key], {});\n",
              "          if (!dataTable) return;\n",
              "\n",
              "          const docLinkHtml = 'Like what you see? Visit the ' +\n",
              "            '<a target=\"_blank\" href=https://colab.research.google.com/notebooks/data_table.ipynb>data table notebook</a>'\n",
              "            + ' to learn more about interactive tables.';\n",
              "          element.innerHTML = '';\n",
              "          dataTable['output_type'] = 'display_data';\n",
              "          await google.colab.output.renderOutput(dataTable, element);\n",
              "          const docLink = document.createElement('div');\n",
              "          docLink.innerHTML = docLinkHtml;\n",
              "          element.appendChild(docLink);\n",
              "        }\n",
              "      </script>\n",
              "    </div>\n",
              "  </div>\n",
              "  "
            ]
          },
          "metadata": {},
          "execution_count": 5
        }
      ]
    },
    {
      "cell_type": "markdown",
      "source": [
        "## Kế hoạch xử lý dữ liệu\n",
        "1. Cột Material và Manufacturer là 2 cột bị mất thông tin nhiều nhất. Cần loại bỏ 2 cột này. Tuy nhiên nếu kết quả mô hình dự đoán không vượt quá 50% như kì vọng -> Đây là 2 cột quan trọng, cần quay lại xử lý.\n",
        "2. Xử lý các cột còn lại sao cho hợp lý, các cột còn lại bảo gồm: Location, Width, Length, Type, Year Built, Price, Number of view last 7 days"
      ],
      "metadata": {
        "id": "if2Q1NRNDLPC"
      }
    },
    {
      "cell_type": "markdown",
      "source": [
        "#Xử lý các cột dữ liệu"
      ],
      "metadata": {
        "id": "PrdM6KEmFqP8"
      }
    },
    {
      "cell_type": "markdown",
      "source": [
        "##Xử lý cột Location trong trong dữ liệu gốc"
      ],
      "metadata": {
        "id": "7j1ycWhPuEHC"
      }
    },
    {
      "cell_type": "code",
      "execution_count": null,
      "metadata": {
        "colab": {
          "base_uri": "https://localhost:8080/"
        },
        "id": "dhlhS_SjZaee",
        "outputId": "cf152fea-a604-4ed9-b0f3-4c2e28a84b5b"
      },
      "outputs": [
        {
          "output_type": "stream",
          "name": "stderr",
          "text": [
            "/usr/local/lib/python3.7/dist-packages/ipykernel_launcher.py:4: SettingWithCopyWarning: \n",
            "A value is trying to be set on a copy of a slice from a DataFrame.\n",
            "Try using .loc[row_indexer,col_indexer] = value instead\n",
            "\n",
            "See the caveats in the documentation: https://pandas.pydata.org/pandas-docs/stable/user_guide/indexing.html#returning-a-view-versus-a-copy\n",
            "  after removing the cwd from sys.path.\n",
            "/usr/local/lib/python3.7/dist-packages/ipykernel_launcher.py:5: SettingWithCopyWarning: \n",
            "A value is trying to be set on a copy of a slice from a DataFrame.\n",
            "Try using .loc[row_indexer,col_indexer] = value instead\n",
            "\n",
            "See the caveats in the documentation: https://pandas.pydata.org/pandas-docs/stable/user_guide/indexing.html#returning-a-view-versus-a-copy\n",
            "  \"\"\"\n",
            "/usr/local/lib/python3.7/dist-packages/ipykernel_launcher.py:7: SettingWithCopyWarning: \n",
            "A value is trying to be set on a copy of a slice from a DataFrame.\n",
            "Try using .loc[row_indexer,col_indexer] = value instead\n",
            "\n",
            "See the caveats in the documentation: https://pandas.pydata.org/pandas-docs/stable/user_guide/indexing.html#returning-a-view-versus-a-copy\n",
            "  import sys\n"
          ]
        },
        {
          "output_type": "stream",
          "name": "stdout",
          "text": [
            "[Netherlands, In verkoophaven]                      309\n",
            "[Croatia (Hrvatska)]                                244\n",
            "[Italy, Toscana, Toscana]                           173\n",
            "[Italy]                                             155\n",
            "[France]                                            152\n",
            "                                                   ... \n",
            "[Italy, La Spezia, Italie]                            1\n",
            "[France, Bretagne, Bretagne]                          1\n",
            "[Italy, Linz Marine Test Centre \"Italo Monzino\"]      1\n",
            "[Italy, Adriatic Sea (Fano)]                          1\n",
            "[Switzerland, Bielersee, Gerolfingen]                 1\n",
            "Name: col, Length: 2996, dtype: int64\n"
          ]
        }
      ],
      "source": [
        "# Tạo DataFrame mới để tránh gây ảnh hưởng đến dữ liệu gốc\n",
        "data3 = data1[['Location']]\n",
        "# Tách cột Location.\n",
        "data3['Location'] =data3['Location'].astype(str)\n",
        "data3['split'] = data3['Location'].str.split(' Â» ')\n",
        "# Chuyển các cột trong dữ đã tách thành list\n",
        "data3['col']= list(data3['split'])\n",
        "print(data3['col'].value_counts())"
      ]
    },
    {
      "cell_type": "markdown",
      "source": [
        "Dựa trên thông tin cột col trong data3, ta biết được các quốc gia thường được đặt tại vị trí đầu tiên của dữ liệu."
      ],
      "metadata": {
        "id": "BxBAgW8Bxybt"
      }
    },
    {
      "cell_type": "code",
      "execution_count": null,
      "metadata": {
        "colab": {
          "base_uri": "https://localhost:8080/"
        },
        "id": "wZndESyofq_z",
        "outputId": "7b5ea1a8-0405-4ebb-f67f-d69cbfec6595"
      },
      "outputs": [
        {
          "output_type": "stream",
          "name": "stdout",
          "text": [
            "Germany               1914\n",
            "Italy                 1793\n",
            "France                1229\n",
            "Switzerland           1112\n",
            "Netherlands           1056\n",
            "Croatia (Hrvatska)     810\n",
            "Spain                  702\n",
            "United Kingdom         215\n",
            "Denmark                172\n",
            "Portugal               135\n",
            "Name: col1, dtype: int64\n"
          ]
        },
        {
          "output_type": "stream",
          "name": "stderr",
          "text": [
            "/usr/local/lib/python3.7/dist-packages/ipykernel_launcher.py:2: SettingWithCopyWarning: \n",
            "A value is trying to be set on a copy of a slice from a DataFrame.\n",
            "Try using .loc[row_indexer,col_indexer] = value instead\n",
            "\n",
            "See the caveats in the documentation: https://pandas.pydata.org/pandas-docs/stable/user_guide/indexing.html#returning-a-view-versus-a-copy\n",
            "  \n",
            "/usr/local/lib/python3.7/dist-packages/ipykernel_launcher.py:6: SettingWithCopyWarning: \n",
            "A value is trying to be set on a copy of a slice from a DataFrame.\n",
            "Try using .loc[row_indexer,col_indexer] = value instead\n",
            "\n",
            "See the caveats in the documentation: https://pandas.pydata.org/pandas-docs/stable/user_guide/indexing.html#returning-a-view-versus-a-copy\n",
            "  \n"
          ]
        }
      ],
      "source": [
        "#Lấy dữ liệu quốc gia trong cột col trong data3\n",
        "data3['col1']= [i[0] for i in data3['col']]\n",
        "country_top =data3['col1'].value_counts().nlargest(10)\n",
        "#Tao từ điển quy đổi dựa trên các loại tiền tệ trong dữ liệu gốc\n",
        "dict_country_currency ={'Croatia (Hrvatska)':3,'Denmark':0,'France':3,'Germany':3,'Italy':3,'Netherlands':3,'Portugal':3,'Spain':3,'Switzerland':2,'United Kingdom':1}\n",
        "data3['country']=data3['col1'].map(dict_country_currency)\n",
        "#Top các quốc gia có thuyền được đăng bán nhiều nhất\n",
        "print(country_top)\n"
      ]
    },
    {
      "cell_type": "code",
      "execution_count": null,
      "metadata": {
        "colab": {
          "base_uri": "https://localhost:8080/"
        },
        "id": "h-mXEe9Ll5JK",
        "outputId": "6d77cf98-947d-4ed7-e56e-6bf1d12ed8b3"
      },
      "outputs": [
        {
          "output_type": "stream",
          "name": "stdout",
          "text": [
            "3.0    7639\n",
            "2.0    1112\n",
            "1.0     215\n",
            "0.0     172\n",
            "Name: country, dtype: int64\n",
            "country    750\n",
            "dtype: int64\n",
            "<class 'pandas.core.frame.DataFrame'>\n",
            "Int64Index: 9138 entries, 0 to 9887\n",
            "Data columns (total 1 columns):\n",
            " #   Column   Non-Null Count  Dtype\n",
            "---  ------   --------------  -----\n",
            " 0   country  9138 non-null   int64\n",
            "dtypes: int64(1)\n",
            "memory usage: 142.8 KB\n",
            "None\n"
          ]
        }
      ],
      "source": [
        "#Tìm kiếm và loại bỏ những dữ liệu bị mất\n",
        "print(data3['country'].value_counts())\n",
        "print(data3[['country']].isnull().sum())\n",
        "#Loại bỏ dữ liệu bị mất\n",
        "data3 = data3.dropna(subset=['country'])\n",
        "data3 = data3[['country']]\n",
        "data3['country'] = data3['country'].astype(int)\n",
        "print(data3[['country']].info())"
      ]
    },
    {
      "cell_type": "markdown",
      "source": [
        "##Xử lý cột Length và cột Width trong dữ liệu gốc"
      ],
      "metadata": {
        "id": "-Vj69C08mvre"
      }
    },
    {
      "cell_type": "code",
      "execution_count": null,
      "metadata": {
        "colab": {
          "base_uri": "https://localhost:8080/"
        },
        "id": "-FaDTM_q9krE",
        "outputId": "8cc4487c-d51d-400e-8ad5-a387b20f103f"
      },
      "outputs": [
        {
          "output_type": "stream",
          "name": "stdout",
          "text": [
            "Price                             0\n",
            "Boat Type                         0\n",
            "Manufacturer                   1338\n",
            "Type                              6\n",
            "Year Built                        0\n",
            "Length                            9\n",
            "Width                            56\n",
            "Material                       1749\n",
            "Location                         36\n",
            "Number of views last 7 days       0\n",
            "dtype: int64\n"
          ]
        }
      ],
      "source": [
        "#Kiểm tra dữ liệu bị mất trong cột Width và Length\n",
        "print(data1.isnull().sum())\n",
        "#Loại bỏ các dữ liệu bị mất trong cột Width và Length\n",
        "data1 = data1.dropna(subset=['Width','Length'])"
      ]
    },
    {
      "cell_type": "code",
      "execution_count": null,
      "metadata": {
        "colab": {
          "base_uri": "https://localhost:8080/"
        },
        "id": "skC8vQ36ZFkp",
        "outputId": "5f56c2bf-bd3b-4eb9-9a66-68d31147f0e1"
      },
      "outputs": [
        {
          "output_type": "stream",
          "name": "stdout",
          "text": [
            "     Length\n",
            "0         0\n",
            "1         0\n",
            "2         0\n",
            "3         0\n",
            "4         0\n",
            "...     ...\n",
            "9883      1\n",
            "9884      0\n",
            "9885      0\n",
            "9886      0\n",
            "9887      0\n",
            "\n",
            "[9832 rows x 1 columns]\n"
          ]
        }
      ],
      "source": [
        "#DataFrame blank chuẩn bị để xử lý dữ liệu\n",
        "test_df=pd.DataFrame()\n",
        "# Tạo các khoảng Length trong Width thành các khoảng mức [0,1,2,3,4,5]\n",
        "bins = [0, 5, 10, 20, 40, 80, 110]\n",
        "group_names = [0,1,2,3,4,5]\n",
        "test_df['Length'] = pd.cut(data1['Length'], bins, labels=group_names)\n",
        "print (test_df)"
      ]
    },
    {
      "cell_type": "code",
      "execution_count": null,
      "metadata": {
        "colab": {
          "base_uri": "https://localhost:8080/"
        },
        "id": "wk-ApJxoRKIU",
        "outputId": "54276a5d-cef5-44b5-aeb3-adba13efa415"
      },
      "outputs": [
        {
          "output_type": "stream",
          "name": "stdout",
          "text": [
            "     Length Width\n",
            "0         0     1\n",
            "1         0     1\n",
            "2         0     1\n",
            "3         0     0\n",
            "4         0     1\n",
            "...     ...   ...\n",
            "9883      1     2\n",
            "9884      0     1\n",
            "9885      0     1\n",
            "9886      0     1\n",
            "9887      0     1\n",
            "\n",
            "[9832 rows x 2 columns]\n"
          ]
        }
      ],
      "source": [
        "# Tạo các khoảng Width trong Width thành các khoảng mức [0,1,2,3,4,5]\n",
        "bins = [0, 1, 2, 4, 8, 16, 32]\n",
        "group_names = [0,1,2,3,4,5]\n",
        "test_df['Width'] = pd.cut(data1['Width'], bins, labels=group_names)\n",
        "print (test_df)"
      ]
    },
    {
      "cell_type": "markdown",
      "source": [
        "##Xử lý cột Year Built days trong dữ liệu gốc"
      ],
      "metadata": {
        "id": "fdaA3yxEmbXh"
      }
    },
    {
      "cell_type": "code",
      "source": [
        "print(data1[['Year Built']].value_counts())\n",
        "#Lọc năm 0 do không hợp lý\n",
        "data1 = data1[data1['Year Built'] >0 ]\n",
        "print(data1[['Year Built']].value_counts())"
      ],
      "metadata": {
        "colab": {
          "base_uri": "https://localhost:8080/"
        },
        "id": "o6It9kGysC-D",
        "outputId": "e5c77015-17b9-4346-f37a-60ad11d52255"
      },
      "execution_count": null,
      "outputs": [
        {
          "output_type": "stream",
          "name": "stdout",
          "text": [
            "Year Built\n",
            "2020          1277\n",
            "2019           660\n",
            "0              550\n",
            "2008           456\n",
            "2007           392\n",
            "              ... \n",
            "1946             1\n",
            "1945             1\n",
            "1942             1\n",
            "1941             1\n",
            "1935             1\n",
            "Length: 122, dtype: int64\n",
            "Year Built\n",
            "2020          1277\n",
            "2019           660\n",
            "2008           456\n",
            "2007           392\n",
            "2006           390\n",
            "              ... \n",
            "1914             1\n",
            "1917             1\n",
            "1937             1\n",
            "1935             1\n",
            "1885             1\n",
            "Length: 121, dtype: int64\n"
          ]
        }
      ]
    },
    {
      "cell_type": "code",
      "execution_count": null,
      "metadata": {
        "id": "ScUoGycdRKT0"
      },
      "outputs": [],
      "source": [
        "#Nhóm các khoảng Year trong Year Built thành các khoảng mức [0,1,2,3,4,5,6]\n",
        "data = [data1, test_df]\n",
        "for dataset in data:\n",
        "    dataset['Year'] = data1['Year Built'].astype(int)\n",
        "    dataset.loc[(dataset['Year'] >= 1885) & (dataset['Year'] <= 1900), 'Year'] = 0\n",
        "    dataset.loc[(dataset['Year'] > 1900) & (dataset['Year'] <= 1920), 'Year'] = 1\n",
        "    dataset.loc[(dataset['Year'] > 1920) & (dataset['Year'] <= 1940), 'Year'] = 2\n",
        "    dataset.loc[(dataset['Year'] > 1940) & (dataset['Year'] <= 1960), 'Year'] = 3\n",
        "    dataset.loc[(dataset['Year'] > 1960) & (dataset['Year'] <= 1980), 'Year'] = 4\n",
        "    dataset.loc[(dataset['Year'] > 1980) & (dataset['Year'] <= 2000), 'Year'] = 5\n",
        "    dataset.loc[(dataset['Year'] > 2000) & (dataset['Year'] <= 2022), 'Year'] = 6\n"
      ]
    },
    {
      "cell_type": "markdown",
      "source": [
        "##Xử lý cột Number of views last 7 days trong dữ liệu gốc"
      ],
      "metadata": {
        "id": "xNKvHDXWl1lr"
      }
    },
    {
      "cell_type": "code",
      "execution_count": null,
      "metadata": {
        "id": "k8GANdJVrq0k"
      },
      "outputs": [],
      "source": [
        "#Nhóm các khoảng View trong Number of views last 7 days thành các khoảng mức [0,1,2,3,4,5]\n",
        "data = [data1, test_df]\n",
        "for dataset in data:\n",
        "    dataset['View'] = data1['Number of views last 7 days'].astype(int)\n",
        "    dataset.loc[(dataset['View'] >= 0) & (dataset['View'] <= 100), 'View'] = 0\n",
        "    dataset.loc[(dataset['View'] > 100) & (dataset['View'] <= 200), 'View'] = 1\n",
        "    dataset.loc[(dataset['View'] > 200) & (dataset['View'] <= 400), 'View'] = 2\n",
        "    dataset.loc[(dataset['View'] > 400) & (dataset['View'] <= 800), 'View'] = 3\n",
        "    dataset.loc[(dataset['View'] > 800) & (dataset['View'] <= 1600), 'View'] = 4\n",
        "    dataset.loc[(dataset['View'] > 1600) & (dataset['View'] <= 3290), 'View'] = 5\n"
      ]
    },
    {
      "cell_type": "markdown",
      "metadata": {
        "id": "RvOh-cbfAJCv"
      },
      "source": [
        "##Xử lý cột Price trong dữ liệu gốc"
      ]
    },
    {
      "cell_type": "code",
      "source": [
        "# Tách cột currency và Price từ cột Price trong dữ liệu gốc\n",
        "data1['currency'] = [x[0] for x in data1['Price'].str.split(' ')]\n",
        "data1['Price'] =[x[1] for x in data1['Price'].str.split(' ')]"
      ],
      "metadata": {
        "id": "JqAk7B-SqmRG"
      },
      "execution_count": null,
      "outputs": []
    },
    {
      "cell_type": "code",
      "execution_count": null,
      "metadata": {
        "colab": {
          "base_uri": "https://localhost:8080/"
        },
        "id": "onuAsUEgiZ_K",
        "outputId": "2783e56b-907f-42ad-fc91-3482153d7ab9"
      },
      "outputs": [
        {
          "output_type": "stream",
          "name": "stderr",
          "text": [
            "/usr/local/lib/python3.7/dist-packages/ipykernel_launcher.py:9: SettingWithCopyWarning: \n",
            "A value is trying to be set on a copy of a slice from a DataFrame.\n",
            "Try using .loc[row_indexer,col_indexer] = value instead\n",
            "\n",
            "See the caveats in the documentation: https://pandas.pydata.org/pandas-docs/stable/user_guide/indexing.html#returning-a-view-versus-a-copy\n",
            "  if __name__ == '__main__':\n",
            "/usr/local/lib/python3.7/dist-packages/ipykernel_launcher.py:10: SettingWithCopyWarning: \n",
            "A value is trying to be set on a copy of a slice from a DataFrame.\n",
            "Try using .loc[row_indexer,col_indexer] = value instead\n",
            "\n",
            "See the caveats in the documentation: https://pandas.pydata.org/pandas-docs/stable/user_guide/indexing.html#returning-a-view-versus-a-copy\n",
            "  # Remove the CWD from sys.path while we load stuff.\n",
            "/usr/local/lib/python3.7/dist-packages/ipykernel_launcher.py:11: SettingWithCopyWarning: \n",
            "A value is trying to be set on a copy of a slice from a DataFrame.\n",
            "Try using .loc[row_indexer,col_indexer] = value instead\n",
            "\n",
            "See the caveats in the documentation: https://pandas.pydata.org/pandas-docs/stable/user_guide/indexing.html#returning-a-view-versus-a-copy\n",
            "  # This is added back by InteractiveShellApp.init_path()\n"
          ]
        }
      ],
      "source": [
        "# Quy đổi toàn bộ các loại tiền tệ sang cùng loại tiền tệ EUR.\n",
        "data1['Price'] = data1['Price'].astype(int)\n",
        "data1['Price'] = round(data1['Price'],1)\n",
        "data1 = data1[data1['Price'] >0]\n",
        "# Cắt dữ liệu trống dựa trên view\n",
        "test_df = test_df.dropna(subset=['View'])\n",
        "# Tạo từ điển quy đổi giá\n",
        "exc_dict ={\"CHF\":0.97,\"EUR\":1,\"DKK\":0.13,\"Â£\":1.19}\n",
        "test_df['exchange'] =data1['currency'].map(exc_dict)\n",
        "test_df['Price'] = round(data1['Price']*test_df['exchange']).astype(int)\n",
        "test_df['Price'] = data1['Price']"
      ]
    },
    {
      "cell_type": "code",
      "source": [
        "test_df.info()"
      ],
      "metadata": {
        "colab": {
          "base_uri": "https://localhost:8080/"
        },
        "id": "Nc5dv76lzsbZ",
        "outputId": "d0517303-f4b7-4310-c566-a612ff689b1f"
      },
      "execution_count": null,
      "outputs": [
        {
          "output_type": "stream",
          "name": "stdout",
          "text": [
            "<class 'pandas.core.frame.DataFrame'>\n",
            "Int64Index: 9282 entries, 0 to 9887\n",
            "Data columns (total 6 columns):\n",
            " #   Column    Non-Null Count  Dtype   \n",
            "---  ------    --------------  -----   \n",
            " 0   Length    9282 non-null   category\n",
            " 1   Width     9282 non-null   category\n",
            " 2   Year      9282 non-null   float64 \n",
            " 3   View      9282 non-null   float64 \n",
            " 4   exchange  9282 non-null   float64 \n",
            " 5   Price     9282 non-null   int64   \n",
            "dtypes: category(2), float64(3), int64(1)\n",
            "memory usage: 381.1 KB\n"
          ]
        }
      ]
    },
    {
      "cell_type": "code",
      "execution_count": null,
      "metadata": {
        "colab": {
          "base_uri": "https://localhost:8080/"
        },
        "id": "Gh0byQgohUCH",
        "outputId": "5405e61f-0274-4560-a51e-9283cbff8639"
      },
      "outputs": [
        {
          "output_type": "stream",
          "name": "stdout",
          "text": [
            "3    7957\n",
            "2     861\n",
            "1     290\n",
            "0     174\n",
            "Name: currency, dtype: int64\n"
          ]
        },
        {
          "output_type": "stream",
          "name": "stderr",
          "text": [
            "/usr/local/lib/python3.7/dist-packages/ipykernel_launcher.py:3: SettingWithCopyWarning: \n",
            "A value is trying to be set on a copy of a slice from a DataFrame.\n",
            "Try using .loc[row_indexer,col_indexer] = value instead\n",
            "\n",
            "See the caveats in the documentation: https://pandas.pydata.org/pandas-docs/stable/user_guide/indexing.html#returning-a-view-versus-a-copy\n",
            "  This is separate from the ipykernel package so we can avoid doing imports until\n"
          ]
        }
      ],
      "source": [
        "#Nhóm các loại tiền trong currency thành các khoảng mức [0,1,2,3]\n",
        "cur_dict ={\"CHF\":2,\"EUR\":3,\"DKK\":0,\"Â£\":1}\n",
        "test_df['currency'] =data1['currency'].map(cur_dict)\n",
        "print(test_df['currency'].value_counts())"
      ]
    },
    {
      "cell_type": "code",
      "execution_count": null,
      "metadata": {
        "id": "GrpJjPzx94Ck"
      },
      "outputs": [],
      "source": [
        "#Nhóm các khoảng giá trong Price thành các khoảng mức [0,1,2,3,4,5]\n",
        "data = [data1, test_df]\n",
        "for dataset in data:\n",
        "    dataset['Price'] = data1['Price'].astype(int)\n",
        "    dataset.loc[(dataset['Price'] >= 3300) & (dataset['Price'] <= 16500), 'Price'] = 0\n",
        "    dataset.loc[(dataset['Price'] > 16500) & (dataset['Price'] <= 82500), 'Price'] = 1\n",
        "    dataset.loc[(dataset['Price'] > 82500) & (dataset['Price'] <= 412500), 'Price'] = 2\n",
        "    dataset.loc[(dataset['Price'] > 412500) & (dataset['Price'] <= 2062500), 'Price'] = 3    \n",
        "    dataset.loc[(dataset['Price'] > 2062500) & (dataset['Price'] <= 10312500), 'Price'] = 4   \n",
        "    dataset.loc[(dataset['Price'] > 10312500) & (dataset['Price'] <= 51562500), 'Price'] = 5\n"
      ]
    },
    {
      "cell_type": "markdown",
      "source": [
        "## Xử lý dữ liệu cột Type trong dữ liệu gốc"
      ],
      "metadata": {
        "id": "Alg0aR4WgYJr"
      }
    },
    {
      "cell_type": "code",
      "execution_count": null,
      "metadata": {
        "id": "hgkK93GdtNpg"
      },
      "outputs": [],
      "source": [
        "#Tạo bảng dữ liệu mới dựa trên data gốc để tránh trường hợp thay đổi dữ liệu gốc\n",
        "data2 = data1[['Type']]\n",
        "#Loại bỏ dữ liệu bị mất trong cột Type\n",
        "data2 = data2.dropna(subset=['Type'])\n",
        "#Tách cột và tạo thành 2 cột mới là status và engine.\n",
        "data2['col']= data2['Type'].str.split(',')\n",
        "for x in data2['col']:\n",
        "     data2['status'] = [ i[0] for i in data2['col']] \n",
        "     data2['engine'] = [ i[-1] for i in data2['col']]"
      ]
    },
    {
      "cell_type": "code",
      "execution_count": null,
      "metadata": {
        "id": "SSsjQXzo3mCv"
      },
      "outputs": [],
      "source": [
        "engine={'Diesel':0,'Unleaded':1,'Electric':2,'Hybrid':3,'Propane':4,'Gas':5}\n",
        "stat_dict={'Used boat':0,\"new boat from stock\":2,\"Display Model\":1,\"new boat on order\":3}\n",
        "data2['status'] =data2['status'].map(stat_dict)\n",
        "data2['engine'] = data2['engine'].map(engine)"
      ]
    },
    {
      "cell_type": "code",
      "execution_count": null,
      "metadata": {
        "id": "yJGErYCOszj0",
        "colab": {
          "base_uri": "https://localhost:8080/"
        },
        "outputId": "5d3d5ae7-b958-45e1-d535-36c374667279"
      },
      "outputs": [
        {
          "output_type": "stream",
          "name": "stdout",
          "text": [
            "<class 'pandas.core.frame.DataFrame'>\n",
            "Int64Index: 9277 entries, 0 to 9887\n",
            "Data columns (total 4 columns):\n",
            " #   Column  Non-Null Count  Dtype  \n",
            "---  ------  --------------  -----  \n",
            " 0   Type    9277 non-null   object \n",
            " 1   col     9277 non-null   object \n",
            " 2   status  9198 non-null   float64\n",
            " 3   engine  7250 non-null   float64\n",
            "dtypes: float64(2), object(2)\n",
            "memory usage: 362.4+ KB\n",
            "engine    2027\n",
            "dtype: int64\n",
            "status    79\n",
            "dtype: int64\n"
          ]
        }
      ],
      "source": [
        "data2.info()\n",
        "# Dữ liệu của engine  mất hơn 2000 -> Không sự dụng dữ liệu engine để đảm bảo tính chính xac\n",
        "print(data2[['engine']].isnull().sum())\n",
        "# Dữ liệu của status mất dưới 100 -> Có thể sự dụng dữ liệu Type.\n",
        "print(data2[['status']].isnull().sum())\n",
        "# Loại bỏ dữ liệu đã mất trong cột status\n",
        "data2 = data2.drop(columns=['engine'])\n",
        "data2 = data2.dropna(subset=['status'])"
      ]
    },
    {
      "cell_type": "code",
      "source": [
        "test_df.isnull().sum()"
      ],
      "metadata": {
        "colab": {
          "base_uri": "https://localhost:8080/"
        },
        "id": "07L2mP_a4vEQ",
        "outputId": "20d0399b-0186-4897-a88f-e17310328bc5"
      },
      "execution_count": null,
      "outputs": [
        {
          "output_type": "execute_result",
          "data": {
            "text/plain": [
              "Length      0\n",
              "Width       0\n",
              "Year        0\n",
              "View        0\n",
              "exchange    0\n",
              "Price       0\n",
              "currency    0\n",
              "dtype: int64"
            ]
          },
          "metadata": {},
          "execution_count": 23
        }
      ]
    },
    {
      "cell_type": "markdown",
      "source": [
        "##Gộp các cột đã xử lý, chuẩn bị dữ liệu để xây dựng biểu đồ và chạy mô hình dự đoán"
      ],
      "metadata": {
        "id": "X0Rei1KogfSz"
      }
    },
    {
      "cell_type": "code",
      "execution_count": null,
      "metadata": {
        "id": "Fd1ptXzRs_lO",
        "colab": {
          "base_uri": "https://localhost:8080/"
        },
        "outputId": "06a2e7b4-497c-49d8-95f3-e805bd4f38f5"
      },
      "outputs": [
        {
          "output_type": "stream",
          "name": "stdout",
          "text": [
            "<class 'pandas.core.frame.DataFrame'>\n",
            "Int64Index: 9198 entries, 0 to 9887\n",
            "Data columns (total 8 columns):\n",
            " #   Column    Non-Null Count  Dtype   \n",
            "---  ------    --------------  -----   \n",
            " 0   Length    9198 non-null   category\n",
            " 1   Width     9198 non-null   category\n",
            " 2   currency  9198 non-null   int64   \n",
            " 3   Year      9198 non-null   float64 \n",
            " 4   View      9198 non-null   float64 \n",
            " 5   Price     9198 non-null   int64   \n",
            " 6   country   8477 non-null   float64 \n",
            " 7   status    9198 non-null   int64   \n",
            "dtypes: category(2), float64(3), int64(3)\n",
            "memory usage: 521.4 KB\n",
            "None\n",
            "Length        0\n",
            "Width         0\n",
            "currency      0\n",
            "Year          0\n",
            "View          0\n",
            "Price         0\n",
            "country     721\n",
            "status        0\n",
            "dtype: int64\n"
          ]
        }
      ],
      "source": [
        "#Tạo Datframe mới dựa trên các cột dữ liệu đã được xử lý ở phía trên\n",
        "test_df = test_df[['Length', 'Width',\t'currency','Year','View','Price']]\n",
        "#Xử lý dữ liệu, đảm bảo dạng dữ liệu trong các cột là int64\n",
        "test_df['country'] =data3['country'].astype(int)\n",
        "test_df['status'] = data2['status'].astype(int)\n",
        "test_df = test_df.dropna(subset=['status'])\n",
        "test_df['status'] = test_df.status.astype(int)\n",
        "#Kiểm tra dữ liệu bị mất và thông tin data\n",
        "print(test_df.info())\n",
        "print(test_df.isnull().sum())"
      ]
    },
    {
      "cell_type": "code",
      "source": [
        "#Xử lý dữ liệu để đảm bảo rằng không còn dữ liệu bị mất\n",
        "test_df =test_df.dropna(subset=['country'])\n",
        "print(test_df.info())"
      ],
      "metadata": {
        "colab": {
          "base_uri": "https://localhost:8080/"
        },
        "id": "27kvTvK7BSxp",
        "outputId": "ba534d7b-5e81-4cb5-97ad-b3da125f8ca6"
      },
      "execution_count": null,
      "outputs": [
        {
          "output_type": "stream",
          "name": "stdout",
          "text": [
            "<class 'pandas.core.frame.DataFrame'>\n",
            "Int64Index: 8477 entries, 0 to 9887\n",
            "Data columns (total 8 columns):\n",
            " #   Column    Non-Null Count  Dtype   \n",
            "---  ------    --------------  -----   \n",
            " 0   Length    8477 non-null   category\n",
            " 1   Width     8477 non-null   category\n",
            " 2   currency  8477 non-null   int64   \n",
            " 3   Year      8477 non-null   float64 \n",
            " 4   View      8477 non-null   float64 \n",
            " 5   Price     8477 non-null   int64   \n",
            " 6   country   8477 non-null   float64 \n",
            " 7   status    8477 non-null   int64   \n",
            "dtypes: category(2), float64(3), int64(3)\n",
            "memory usage: 480.6 KB\n",
            "None\n"
          ]
        }
      ]
    },
    {
      "cell_type": "markdown",
      "source": [
        ""
      ],
      "metadata": {
        "id": "sY5hmIeS_tlH"
      }
    },
    {
      "cell_type": "code",
      "execution_count": null,
      "metadata": {
        "id": "kF_HDphPn_01",
        "colab": {
          "base_uri": "https://localhost:8080/",
          "height": 359
        },
        "outputId": "006a707a-4e24-458f-f4c7-a7e04df5c6e5"
      },
      "outputs": [
        {
          "output_type": "execute_result",
          "data": {
            "text/plain": [
              "   Length Width  currency  Year  View  Price  country  status\n",
              "0       0     1         2   6.0   2.0      0      2.0       2\n",
              "1       0     1         3   6.0   0.0      0      3.0       2\n",
              "3       0     0         0   6.0   0.0      1      0.0       2\n",
              "4       0     1         3   6.0   0.0      0      3.0       2\n",
              "6       1     2         2   5.0   3.0      0      2.0       0\n",
              "8       0     1         3   6.0   0.0      0      3.0       2\n",
              "9       0     1         3   6.0   1.0      0      3.0       2\n",
              "10      0     1         2   5.0   2.0      0      2.0       0\n",
              "12      0     1         3   6.0   0.0      0      3.0       0\n",
              "13      0     1         2   6.0   1.0      0      2.0       2"
            ],
            "text/html": [
              "\n",
              "  <div id=\"df-36be2ba4-24db-4a5f-9935-ac249d2fc7f5\">\n",
              "    <div class=\"colab-df-container\">\n",
              "      <div>\n",
              "<style scoped>\n",
              "    .dataframe tbody tr th:only-of-type {\n",
              "        vertical-align: middle;\n",
              "    }\n",
              "\n",
              "    .dataframe tbody tr th {\n",
              "        vertical-align: top;\n",
              "    }\n",
              "\n",
              "    .dataframe thead th {\n",
              "        text-align: right;\n",
              "    }\n",
              "</style>\n",
              "<table border=\"1\" class=\"dataframe\">\n",
              "  <thead>\n",
              "    <tr style=\"text-align: right;\">\n",
              "      <th></th>\n",
              "      <th>Length</th>\n",
              "      <th>Width</th>\n",
              "      <th>currency</th>\n",
              "      <th>Year</th>\n",
              "      <th>View</th>\n",
              "      <th>Price</th>\n",
              "      <th>country</th>\n",
              "      <th>status</th>\n",
              "    </tr>\n",
              "  </thead>\n",
              "  <tbody>\n",
              "    <tr>\n",
              "      <th>0</th>\n",
              "      <td>0</td>\n",
              "      <td>1</td>\n",
              "      <td>2</td>\n",
              "      <td>6.0</td>\n",
              "      <td>2.0</td>\n",
              "      <td>0</td>\n",
              "      <td>2.0</td>\n",
              "      <td>2</td>\n",
              "    </tr>\n",
              "    <tr>\n",
              "      <th>1</th>\n",
              "      <td>0</td>\n",
              "      <td>1</td>\n",
              "      <td>3</td>\n",
              "      <td>6.0</td>\n",
              "      <td>0.0</td>\n",
              "      <td>0</td>\n",
              "      <td>3.0</td>\n",
              "      <td>2</td>\n",
              "    </tr>\n",
              "    <tr>\n",
              "      <th>3</th>\n",
              "      <td>0</td>\n",
              "      <td>0</td>\n",
              "      <td>0</td>\n",
              "      <td>6.0</td>\n",
              "      <td>0.0</td>\n",
              "      <td>1</td>\n",
              "      <td>0.0</td>\n",
              "      <td>2</td>\n",
              "    </tr>\n",
              "    <tr>\n",
              "      <th>4</th>\n",
              "      <td>0</td>\n",
              "      <td>1</td>\n",
              "      <td>3</td>\n",
              "      <td>6.0</td>\n",
              "      <td>0.0</td>\n",
              "      <td>0</td>\n",
              "      <td>3.0</td>\n",
              "      <td>2</td>\n",
              "    </tr>\n",
              "    <tr>\n",
              "      <th>6</th>\n",
              "      <td>1</td>\n",
              "      <td>2</td>\n",
              "      <td>2</td>\n",
              "      <td>5.0</td>\n",
              "      <td>3.0</td>\n",
              "      <td>0</td>\n",
              "      <td>2.0</td>\n",
              "      <td>0</td>\n",
              "    </tr>\n",
              "    <tr>\n",
              "      <th>8</th>\n",
              "      <td>0</td>\n",
              "      <td>1</td>\n",
              "      <td>3</td>\n",
              "      <td>6.0</td>\n",
              "      <td>0.0</td>\n",
              "      <td>0</td>\n",
              "      <td>3.0</td>\n",
              "      <td>2</td>\n",
              "    </tr>\n",
              "    <tr>\n",
              "      <th>9</th>\n",
              "      <td>0</td>\n",
              "      <td>1</td>\n",
              "      <td>3</td>\n",
              "      <td>6.0</td>\n",
              "      <td>1.0</td>\n",
              "      <td>0</td>\n",
              "      <td>3.0</td>\n",
              "      <td>2</td>\n",
              "    </tr>\n",
              "    <tr>\n",
              "      <th>10</th>\n",
              "      <td>0</td>\n",
              "      <td>1</td>\n",
              "      <td>2</td>\n",
              "      <td>5.0</td>\n",
              "      <td>2.0</td>\n",
              "      <td>0</td>\n",
              "      <td>2.0</td>\n",
              "      <td>0</td>\n",
              "    </tr>\n",
              "    <tr>\n",
              "      <th>12</th>\n",
              "      <td>0</td>\n",
              "      <td>1</td>\n",
              "      <td>3</td>\n",
              "      <td>6.0</td>\n",
              "      <td>0.0</td>\n",
              "      <td>0</td>\n",
              "      <td>3.0</td>\n",
              "      <td>0</td>\n",
              "    </tr>\n",
              "    <tr>\n",
              "      <th>13</th>\n",
              "      <td>0</td>\n",
              "      <td>1</td>\n",
              "      <td>2</td>\n",
              "      <td>6.0</td>\n",
              "      <td>1.0</td>\n",
              "      <td>0</td>\n",
              "      <td>2.0</td>\n",
              "      <td>2</td>\n",
              "    </tr>\n",
              "  </tbody>\n",
              "</table>\n",
              "</div>\n",
              "      <button class=\"colab-df-convert\" onclick=\"convertToInteractive('df-36be2ba4-24db-4a5f-9935-ac249d2fc7f5')\"\n",
              "              title=\"Convert this dataframe to an interactive table.\"\n",
              "              style=\"display:none;\">\n",
              "        \n",
              "  <svg xmlns=\"http://www.w3.org/2000/svg\" height=\"24px\"viewBox=\"0 0 24 24\"\n",
              "       width=\"24px\">\n",
              "    <path d=\"M0 0h24v24H0V0z\" fill=\"none\"/>\n",
              "    <path d=\"M18.56 5.44l.94 2.06.94-2.06 2.06-.94-2.06-.94-.94-2.06-.94 2.06-2.06.94zm-11 1L8.5 8.5l.94-2.06 2.06-.94-2.06-.94L8.5 2.5l-.94 2.06-2.06.94zm10 10l.94 2.06.94-2.06 2.06-.94-2.06-.94-.94-2.06-.94 2.06-2.06.94z\"/><path d=\"M17.41 7.96l-1.37-1.37c-.4-.4-.92-.59-1.43-.59-.52 0-1.04.2-1.43.59L10.3 9.45l-7.72 7.72c-.78.78-.78 2.05 0 2.83L4 21.41c.39.39.9.59 1.41.59.51 0 1.02-.2 1.41-.59l7.78-7.78 2.81-2.81c.8-.78.8-2.07 0-2.86zM5.41 20L4 18.59l7.72-7.72 1.47 1.35L5.41 20z\"/>\n",
              "  </svg>\n",
              "      </button>\n",
              "      \n",
              "  <style>\n",
              "    .colab-df-container {\n",
              "      display:flex;\n",
              "      flex-wrap:wrap;\n",
              "      gap: 12px;\n",
              "    }\n",
              "\n",
              "    .colab-df-convert {\n",
              "      background-color: #E8F0FE;\n",
              "      border: none;\n",
              "      border-radius: 50%;\n",
              "      cursor: pointer;\n",
              "      display: none;\n",
              "      fill: #1967D2;\n",
              "      height: 32px;\n",
              "      padding: 0 0 0 0;\n",
              "      width: 32px;\n",
              "    }\n",
              "\n",
              "    .colab-df-convert:hover {\n",
              "      background-color: #E2EBFA;\n",
              "      box-shadow: 0px 1px 2px rgba(60, 64, 67, 0.3), 0px 1px 3px 1px rgba(60, 64, 67, 0.15);\n",
              "      fill: #174EA6;\n",
              "    }\n",
              "\n",
              "    [theme=dark] .colab-df-convert {\n",
              "      background-color: #3B4455;\n",
              "      fill: #D2E3FC;\n",
              "    }\n",
              "\n",
              "    [theme=dark] .colab-df-convert:hover {\n",
              "      background-color: #434B5C;\n",
              "      box-shadow: 0px 1px 3px 1px rgba(0, 0, 0, 0.15);\n",
              "      filter: drop-shadow(0px 1px 2px rgba(0, 0, 0, 0.3));\n",
              "      fill: #FFFFFF;\n",
              "    }\n",
              "  </style>\n",
              "\n",
              "      <script>\n",
              "        const buttonEl =\n",
              "          document.querySelector('#df-36be2ba4-24db-4a5f-9935-ac249d2fc7f5 button.colab-df-convert');\n",
              "        buttonEl.style.display =\n",
              "          google.colab.kernel.accessAllowed ? 'block' : 'none';\n",
              "\n",
              "        async function convertToInteractive(key) {\n",
              "          const element = document.querySelector('#df-36be2ba4-24db-4a5f-9935-ac249d2fc7f5');\n",
              "          const dataTable =\n",
              "            await google.colab.kernel.invokeFunction('convertToInteractive',\n",
              "                                                     [key], {});\n",
              "          if (!dataTable) return;\n",
              "\n",
              "          const docLinkHtml = 'Like what you see? Visit the ' +\n",
              "            '<a target=\"_blank\" href=https://colab.research.google.com/notebooks/data_table.ipynb>data table notebook</a>'\n",
              "            + ' to learn more about interactive tables.';\n",
              "          element.innerHTML = '';\n",
              "          dataTable['output_type'] = 'display_data';\n",
              "          await google.colab.output.renderOutput(dataTable, element);\n",
              "          const docLink = document.createElement('div');\n",
              "          docLink.innerHTML = docLinkHtml;\n",
              "          element.appendChild(docLink);\n",
              "        }\n",
              "      </script>\n",
              "    </div>\n",
              "  </div>\n",
              "  "
            ]
          },
          "metadata": {},
          "execution_count": 26
        }
      ],
      "source": [
        "#Kiểm tra DataFrame\n",
        "test_df.head(10)"
      ]
    },
    {
      "cell_type": "markdown",
      "source": [
        "#Vẽ và nhận xét biểu đồ"
      ],
      "metadata": {
        "id": "Z-WTI4IOVGMV"
      }
    },
    {
      "cell_type": "markdown",
      "source": [
        "##Biểu đồ sự tương quan giữa các chỉ số thuộc các cột"
      ],
      "metadata": {
        "id": "PKgR6C_GF5kD"
      }
    },
    {
      "cell_type": "code",
      "execution_count": null,
      "metadata": {
        "id": "ffb-rIH9mBFP",
        "colab": {
          "base_uri": "https://localhost:8080/",
          "height": 704
        },
        "outputId": "93002014-6044-4421-ebe3-d68e6cb6552f"
      },
      "outputs": [
        {
          "output_type": "execute_result",
          "data": {
            "text/plain": [
              "<matplotlib.axes._subplots.AxesSubplot at 0x7f07c58e6090>"
            ]
          },
          "metadata": {},
          "execution_count": 27
        },
        {
          "output_type": "display_data",
          "data": {
            "text/plain": [
              "<Figure size 864x864 with 2 Axes>"
            ],
            "image/png": "[encoded data removed]"
          },
          "metadata": {
            "needs_background": "light"
          }
        }
      ],
      "source": [
        "colormap = plt.cm.viridis\n",
        "plt.figure(figsize=(12,12))\n",
        "plt.title('Sự tương quan giữa các chỉ số tại các cột', y=1.05, size=15)\n",
        "sns.heatmap(test_df.corr(),linewidths=0.1,vmax=1.0, square=True, cmap=colormap, linecolor='white', annot=True)"
      ]
    },
    {
      "cell_type": "markdown",
      "source": [
        "Mục tiêu của chúng ta là tìm được các chỉ số có sự tương quan giữa View và các chỉ số thuộc các cột còn lại.\n",
        "Các chỉ số thể hiện sự tương quan với View là:\n",
        "1. Price(-0.23) -> Có thể View tăng nếu Price giảm\n",
        "2. Country(-0.22): -> Có thể là những nước không sự dụng thuộc nhóm euro còn lại\n",
        "3. Year(-0.13) -> Có thể View tăng nếu số năm giảm.\n",
        "4. Currency (-0.18) -->Có thể View tăng nếu như không sự dụng đồng tiền thuộc nhóm euro.\n",
        "\n",
        "Chúng ta cũng nhận ra rằng: Currency và Country có sự tương quan vô cùng lớn, cần phải xem *xét*"
      ],
      "metadata": {
        "id": "lxEYbFZ7N4fK"
      }
    },
    {
      "cell_type": "markdown",
      "source": [
        "##Nhận xét các giá trị trong biểu đồ và đưa ra đề xuất kế hoạch marketing"
      ],
      "metadata": {
        "id": "h_SsGGj5Gmu6"
      }
    },
    {
      "cell_type": "code",
      "source": [
        "# Top các nước có thuyền được list trên Nearly New Nautical nhiều nhất dựa trên data\n",
        "country_top = pd.DataFrame(country_top)\n",
        "country_top"
      ],
      "metadata": {
        "colab": {
          "base_uri": "https://localhost:8080/",
          "height": 359
        },
        "id": "KLygtjoeUKBd",
        "outputId": "27888096-a9bb-4472-971e-3a87ffbbd011"
      },
      "execution_count": null,
      "outputs": [
        {
          "output_type": "execute_result",
          "data": {
            "text/plain": [
              "                    col1\n",
              "Germany             1914\n",
              "Italy               1793\n",
              "France              1229\n",
              "Switzerland         1112\n",
              "Netherlands         1056\n",
              "Croatia (Hrvatska)   810\n",
              "Spain                702\n",
              "United Kingdom       215\n",
              "Denmark              172\n",
              "Portugal             135"
            ],
            "text/html": [
              "\n",
              "  <div id=\"df-1a94f08a-9aba-401f-b97b-48f14cf5c5bb\">\n",
              "    <div class=\"colab-df-container\">\n",
              "      <div>\n",
              "<style scoped>\n",
              "    .dataframe tbody tr th:only-of-type {\n",
              "        vertical-align: middle;\n",
              "    }\n",
              "\n",
              "    .dataframe tbody tr th {\n",
              "        vertical-align: top;\n",
              "    }\n",
              "\n",
              "    .dataframe thead th {\n",
              "        text-align: right;\n",
              "    }\n",
              "</style>\n",
              "<table border=\"1\" class=\"dataframe\">\n",
              "  <thead>\n",
              "    <tr style=\"text-align: right;\">\n",
              "      <th></th>\n",
              "      <th>col1</th>\n",
              "    </tr>\n",
              "  </thead>\n",
              "  <tbody>\n",
              "    <tr>\n",
              "      <th>Germany</th>\n",
              "      <td>1914</td>\n",
              "    </tr>\n",
              "    <tr>\n",
              "      <th>Italy</th>\n",
              "      <td>1793</td>\n",
              "    </tr>\n",
              "    <tr>\n",
              "      <th>France</th>\n",
              "      <td>1229</td>\n",
              "    </tr>\n",
              "    <tr>\n",
              "      <th>Switzerland</th>\n",
              "      <td>1112</td>\n",
              "    </tr>\n",
              "    <tr>\n",
              "      <th>Netherlands</th>\n",
              "      <td>1056</td>\n",
              "    </tr>\n",
              "    <tr>\n",
              "      <th>Croatia (Hrvatska)</th>\n",
              "      <td>810</td>\n",
              "    </tr>\n",
              "    <tr>\n",
              "      <th>Spain</th>\n",
              "      <td>702</td>\n",
              "    </tr>\n",
              "    <tr>\n",
              "      <th>United Kingdom</th>\n",
              "      <td>215</td>\n",
              "    </tr>\n",
              "    <tr>\n",
              "      <th>Denmark</th>\n",
              "      <td>172</td>\n",
              "    </tr>\n",
              "    <tr>\n",
              "      <th>Portugal</th>\n",
              "      <td>135</td>\n",
              "    </tr>\n",
              "  </tbody>\n",
              "</table>\n",
              "</div>\n",
              "      <button class=\"colab-df-convert\" onclick=\"convertToInteractive('df-1a94f08a-9aba-401f-b97b-48f14cf5c5bb')\"\n",
              "              title=\"Convert this dataframe to an interactive table.\"\n",
              "              style=\"display:none;\">\n",
              "        \n",
              "  <svg xmlns=\"http://www.w3.org/2000/svg\" height=\"24px\"viewBox=\"0 0 24 24\"\n",
              "       width=\"24px\">\n",
              "    <path d=\"M0 0h24v24H0V0z\" fill=\"none\"/>\n",
              "    <path d=\"M18.56 5.44l.94 2.06.94-2.06 2.06-.94-2.06-.94-.94-2.06-.94 2.06-2.06.94zm-11 1L8.5 8.5l.94-2.06 2.06-.94-2.06-.94L8.5 2.5l-.94 2.06-2.06.94zm10 10l.94 2.06.94-2.06 2.06-.94-2.06-.94-.94-2.06-.94 2.06-2.06.94z\"/><path d=\"M17.41 7.96l-1.37-1.37c-.4-.4-.92-.59-1.43-.59-.52 0-1.04.2-1.43.59L10.3 9.45l-7.72 7.72c-.78.78-.78 2.05 0 2.83L4 21.41c.39.39.9.59 1.41.59.51 0 1.02-.2 1.41-.59l7.78-7.78 2.81-2.81c.8-.78.8-2.07 0-2.86zM5.41 20L4 18.59l7.72-7.72 1.47 1.35L5.41 20z\"/>\n",
              "  </svg>\n",
              "      </button>\n",
              "      \n",
              "  <style>\n",
              "    .colab-df-container {\n",
              "      display:flex;\n",
              "      flex-wrap:wrap;\n",
              "      gap: 12px;\n",
              "    }\n",
              "\n",
              "    .colab-df-convert {\n",
              "      background-color: #E8F0FE;\n",
              "      border: none;\n",
              "      border-radius: 50%;\n",
              "      cursor: pointer;\n",
              "      display: none;\n",
              "      fill: #1967D2;\n",
              "      height: 32px;\n",
              "      padding: 0 0 0 0;\n",
              "      width: 32px;\n",
              "    }\n",
              "\n",
              "    .colab-df-convert:hover {\n",
              "      background-color: #E2EBFA;\n",
              "      box-shadow: 0px 1px 2px rgba(60, 64, 67, 0.3), 0px 1px 3px 1px rgba(60, 64, 67, 0.15);\n",
              "      fill: #174EA6;\n",
              "    }\n",
              "\n",
              "    [theme=dark] .colab-df-convert {\n",
              "      background-color: #3B4455;\n",
              "      fill: #D2E3FC;\n",
              "    }\n",
              "\n",
              "    [theme=dark] .colab-df-convert:hover {\n",
              "      background-color: #434B5C;\n",
              "      box-shadow: 0px 1px 3px 1px rgba(0, 0, 0, 0.15);\n",
              "      filter: drop-shadow(0px 1px 2px rgba(0, 0, 0, 0.3));\n",
              "      fill: #FFFFFF;\n",
              "    }\n",
              "  </style>\n",
              "\n",
              "      <script>\n",
              "        const buttonEl =\n",
              "          document.querySelector('#df-1a94f08a-9aba-401f-b97b-48f14cf5c5bb button.colab-df-convert');\n",
              "        buttonEl.style.display =\n",
              "          google.colab.kernel.accessAllowed ? 'block' : 'none';\n",
              "\n",
              "        async function convertToInteractive(key) {\n",
              "          const element = document.querySelector('#df-1a94f08a-9aba-401f-b97b-48f14cf5c5bb');\n",
              "          const dataTable =\n",
              "            await google.colab.kernel.invokeFunction('convertToInteractive',\n",
              "                                                     [key], {});\n",
              "          if (!dataTable) return;\n",
              "\n",
              "          const docLinkHtml = 'Like what you see? Visit the ' +\n",
              "            '<a target=\"_blank\" href=https://colab.research.google.com/notebooks/data_table.ipynb>data table notebook</a>'\n",
              "            + ' to learn more about interactive tables.';\n",
              "          element.innerHTML = '';\n",
              "          dataTable['output_type'] = 'display_data';\n",
              "          await google.colab.output.renderOutput(dataTable, element);\n",
              "          const docLink = document.createElement('div');\n",
              "          docLink.innerHTML = docLinkHtml;\n",
              "          element.appendChild(docLink);\n",
              "        }\n",
              "      </script>\n",
              "    </div>\n",
              "  </div>\n",
              "  "
            ]
          },
          "metadata": {},
          "execution_count": 28
        }
      ]
    },
    {
      "cell_type": "code",
      "source": [
        "sns.barplot(data=test_df,x='currency',y='View').set(title='Tiền tệ và Lượt View')"
      ],
      "metadata": {
        "colab": {
          "base_uri": "https://localhost:8080/",
          "height": 312
        },
        "id": "Sc0GKm0NG-hu",
        "outputId": "90eacb73-fac2-4cd7-caca-be849891fcaf"
      },
      "execution_count": null,
      "outputs": [
        {
          "output_type": "execute_result",
          "data": {
            "text/plain": [
              "[Text(0.5, 1.0, 'Tiền tệ và Lượt View')]"
            ]
          },
          "metadata": {},
          "execution_count": 29
        },
        {
          "output_type": "display_data",
          "data": {
            "text/plain": [
              "<Figure size 432x288 with 1 Axes>"
            ],
            "image/png": "[encoded data removed]"
          },
          "metadata": {
            "needs_background": "light"
          }
        }
      ]
    },
    {
      "cell_type": "markdown",
      "source": [
        "\n",
        ">Note về thông tin tiền tệ\n",
        "0. DKK: Đồng Đan Mạch\n",
        "1. Â£ : Bảng Anh\n",
        "2. CHF : Đồng Thụy Sĩ\n",
        "3. EUR : Đồng Euro\n"
      ],
      "metadata": {
        "id": "odQeC3LfH3z2"
      }
    },
    {
      "cell_type": "code",
      "source": [
        "sns.barplot(data=test_df,x='country',y='View').set(title='Đất nước và Lượt View')"
      ],
      "metadata": {
        "colab": {
          "base_uri": "https://localhost:8080/",
          "height": 312
        },
        "id": "ZkRBjAoYBhwX",
        "outputId": "e1faa743-bc04-4c99-be17-a70c9ceb3ce3"
      },
      "execution_count": null,
      "outputs": [
        {
          "output_type": "execute_result",
          "data": {
            "text/plain": [
              "[Text(0.5, 1.0, 'Đất nước và Lượt View')]"
            ]
          },
          "metadata": {},
          "execution_count": 30
        },
        {
          "output_type": "display_data",
          "data": {
            "text/plain": [
              "<Figure size 432x288 with 1 Axes>"
            ],
            "image/png": "[encoded data removed]"
          },
          "metadata": {
            "needs_background": "light"
          }
        }
      ]
    },
    {
      "cell_type": "markdown",
      "source": [
        "Trong biểu đồ Đất nước và Lượt View, biểu đồ Tiền tệ và Lượt View, chúng ta nhận ra rằng lượt View cao nhất ở các thuyền nằm ở Thụy Sĩ. Mặc dù phần lớn thuyền nằm ở các nước như Đức, Ý, Pháp và Hà Lan <br><br>-> Cần có Marketing các nước Đức, Ý, Pháp, Hà Lan để tăng lượt view\n",
        ">Note về thông tin đất nước\n",
        "0. DKK: Đan Mạch\n",
        "1. Â£ : Anh\n",
        "2. CHF : Thụy Sĩ\n",
        "3. EUR : Các nước thuộc Euro"
      ],
      "metadata": {
        "id": "bXZfY8faPfIF"
      }
    },
    {
      "cell_type": "code",
      "source": [
        "sns.barplot(data=test_df,x='Price', y='View').set(title='Giá và Lượt View')"
      ],
      "metadata": {
        "colab": {
          "base_uri": "https://localhost:8080/",
          "height": 312
        },
        "id": "XkA6_RwnSPDl",
        "outputId": "fd904515-5827-40f7-91f4-a346b5fd1213"
      },
      "execution_count": null,
      "outputs": [
        {
          "output_type": "execute_result",
          "data": {
            "text/plain": [
              "[Text(0.5, 1.0, 'Giá và Lượt View')]"
            ]
          },
          "metadata": {},
          "execution_count": 31
        },
        {
          "output_type": "display_data",
          "data": {
            "text/plain": [
              "<Figure size 432x288 with 1 Axes>"
            ],
            "image/png": "[encoded data removed]"
          },
          "metadata": {
            "needs_background": "light"
          }
        }
      ]
    },
    {
      "cell_type": "markdown",
      "source": [
        "Trong biểu đồ Giá và Lượt View, chúng ta nhận ra rằng, lượt view tập trung phân bố ở mức giá 5 và cao nhất ở mức 0. Vậy mức giá có người xem cao nhất nằm ở mức từ 3300EUR - 16500EUR, và từ 10312500EUR - 51562500EUR -> Cần Marketing ở mức giá 1,2,3,4 <br><br>\n",
        "Bên cạnh đó, ở mức 0 và 5 có lượt view cao -> Chúng ta không nên loại trừ khả năng cao là người xem đã dùng filter để tìm mức giá cao nhất và thấp nhất.\n",
        "\n",
        "> Note về bảng giả\n",
        "0. Giá từ 3300 - 16500\n",
        "1. Giá từ 16500 - 82500\n",
        "2. Giá từ 82500 - 412500\n",
        "3. Giá từ 412500 - 2062500   \n",
        "4. Giá từ 2062500 - 10312500\n",
        "5. Giá từ 10312500 - 51562500\n"
      ],
      "metadata": {
        "id": "iSc67IpFVlxK"
      }
    },
    {
      "cell_type": "code",
      "source": [
        "sns.barplot(data=test_df,x='Year', y='View').set(title='Lượt View và Năm thuyền sản xuất')"
      ],
      "metadata": {
        "colab": {
          "base_uri": "https://localhost:8080/",
          "height": 313
        },
        "id": "ZjXl2YPoVWpS",
        "outputId": "4ff8a23b-d1e5-49e0-e38d-f41dabc15ccd"
      },
      "execution_count": null,
      "outputs": [
        {
          "output_type": "execute_result",
          "data": {
            "text/plain": [
              "[Text(0.5, 1.0, 'Lượt View và Năm thuyền sản xuất')]"
            ]
          },
          "metadata": {},
          "execution_count": 32
        },
        {
          "output_type": "display_data",
          "data": {
            "text/plain": [
              "<Figure size 432x288 with 1 Axes>"
            ],
            "image/png": "[encoded data removed]"
          },
          "metadata": {
            "needs_background": "light"
          }
        }
      ]
    },
    {
      "cell_type": "markdown",
      "source": [
        "Note thông tin về năm\n",
        "0. Năm 1885 - 1900\n",
        "1. Năm 1900 - 1920\n",
        "2. Năm 1920 - 1940\n",
        "3. Năm 1940 - 1960\n",
        "4. Năm 1960 - 1980\n",
        "5. Năm 1980 - 2000\n",
        "6. Năm 2000 - 2022"
      ],
      "metadata": {
        "id": "Bbwg_NpUJkHF"
      }
    },
    {
      "cell_type": "code",
      "source": [
        "sns.countplot(data=test_df,y='Year').set(title='Số thuyền dựa trên năm thuyền sản xuất')"
      ],
      "metadata": {
        "colab": {
          "base_uri": "https://localhost:8080/",
          "height": 313
        },
        "id": "oKnVxKgicVit",
        "outputId": "3a0feb03-7ad1-4fd1-f406-962e3f7479e6"
      },
      "execution_count": null,
      "outputs": [
        {
          "output_type": "execute_result",
          "data": {
            "text/plain": [
              "[Text(0.5, 1.0, 'Số thuyền dựa trên năm thuyền sản xuất')]"
            ]
          },
          "metadata": {},
          "execution_count": 33
        },
        {
          "output_type": "display_data",
          "data": {
            "text/plain": [
              "<Figure size 432x288 with 1 Axes>"
            ],
            "image/png": "[encoded data removed]"
          },
          "metadata": {
            "needs_background": "light"
          }
        }
      ]
    },
    {
      "cell_type": "markdown",
      "source": [
        "Trong biểu đồ Lượt View và Năm thuyền sản xuất và biểu đồ Số thuyền dựa trên năm thuyền sản xuất, chúng ta nhận ra rằng các thuyền từ năm 1960 - 2022 có số lượt view cao nhất.<br><br> \n",
        "Tuy nhiên, mặc dù các thuyền từ năm 2000 - 20022 chiếm phần lớn trong data, nhưng lượt view lại tập trung vào các năm thuộc các năm từ 1940 -2000 -> Cần Martketing vào các thuyền sản xuất từ nằm 2000 trở lên.\n",
        "\n",
        "> Note thông tin về năm\n",
        "0. Năm 1885 - 1900 \n",
        "1. Năm 1900 - 1920 \n",
        "2. Năm 1920 - 1940 \n",
        "3. Năm 1940 - 1960 \n",
        "4. Năm 1960 - 1980 \n",
        "5. Năm 1980 - 2000 \n",
        "6. Năm 2000 - 2022 "
      ],
      "metadata": {
        "id": "Fi5artt2Z8pB"
      }
    },
    {
      "cell_type": "markdown",
      "source": [
        "#Xây dựng và lựa chọn mô hình dự đoán\n",
        "Chạy nhiều mô hình model để tìm ra model nào có kết quả chính xác nhất.\n",
        "\n",
        "Nếu kết quả của mô hình vượt qua 50%, thì mô hình sẽ được nhận."
      ],
      "metadata": {
        "id": "SmwchX4eNdLo"
      }
    },
    {
      "cell_type": "code",
      "execution_count": null,
      "metadata": {
        "id": "716dYPXPlFOv"
      },
      "outputs": [],
      "source": [
        "#Chuẩn bị dữ liệu đẻ huấn luyện mô hình\n",
        "X = test_df.drop(\"View\", axis=1)\n",
        "y = test_df[\"View\"]\n",
        "X_train, X_test, y_train, y_test = train_test_split( X, y, test_size=0.33, random_state=42)"
      ]
    },
    {
      "cell_type": "code",
      "execution_count": null,
      "metadata": {
        "id": "4uZHBc1_SlKV",
        "colab": {
          "base_uri": "https://localhost:8080/",
          "height": 359
        },
        "outputId": "03558fa8-db6a-470b-ee88-2fc6518e033e"
      },
      "outputs": [
        {
          "output_type": "execute_result",
          "data": {
            "text/plain": [
              "     Length Width  currency  Year  Price  country  status\n",
              "4405      2     3         3   6.0      2      3.0       0\n",
              "2400      1     2         3   6.0      2      3.0       2\n",
              "8674      1     2         3   6.0      1      3.0       0\n",
              "6345      1     2         3   6.0      2      3.0       2\n",
              "4162      2     3         1   6.0      3      1.0       0\n",
              "5713      1     2         3   6.0      2      3.0       0\n",
              "6070      2     2         3   6.0      2      1.0       0\n",
              "3945      3     3         3   6.0      3      3.0       0\n",
              "3256      3     3         1   6.0      3      3.0       0\n",
              "5837      1     2         3   6.0      2      3.0       2"
            ],
            "text/html": [
              "\n",
              "  <div id=\"df-27a5eb09-46c3-4eaa-b0f5-0e3887327767\">\n",
              "    <div class=\"colab-df-container\">\n",
              "      <div>\n",
              "<style scoped>\n",
              "    .dataframe tbody tr th:only-of-type {\n",
              "        vertical-align: middle;\n",
              "    }\n",
              "\n",
              "    .dataframe tbody tr th {\n",
              "        vertical-align: top;\n",
              "    }\n",
              "\n",
              "    .dataframe thead th {\n",
              "        text-align: right;\n",
              "    }\n",
              "</style>\n",
              "<table border=\"1\" class=\"dataframe\">\n",
              "  <thead>\n",
              "    <tr style=\"text-align: right;\">\n",
              "      <th></th>\n",
              "      <th>Length</th>\n",
              "      <th>Width</th>\n",
              "      <th>currency</th>\n",
              "      <th>Year</th>\n",
              "      <th>Price</th>\n",
              "      <th>country</th>\n",
              "      <th>status</th>\n",
              "    </tr>\n",
              "  </thead>\n",
              "  <tbody>\n",
              "    <tr>\n",
              "      <th>4405</th>\n",
              "      <td>2</td>\n",
              "      <td>3</td>\n",
              "      <td>3</td>\n",
              "      <td>6.0</td>\n",
              "      <td>2</td>\n",
              "      <td>3.0</td>\n",
              "      <td>0</td>\n",
              "    </tr>\n",
              "    <tr>\n",
              "      <th>2400</th>\n",
              "      <td>1</td>\n",
              "      <td>2</td>\n",
              "      <td>3</td>\n",
              "      <td>6.0</td>\n",
              "      <td>2</td>\n",
              "      <td>3.0</td>\n",
              "      <td>2</td>\n",
              "    </tr>\n",
              "    <tr>\n",
              "      <th>8674</th>\n",
              "      <td>1</td>\n",
              "      <td>2</td>\n",
              "      <td>3</td>\n",
              "      <td>6.0</td>\n",
              "      <td>1</td>\n",
              "      <td>3.0</td>\n",
              "      <td>0</td>\n",
              "    </tr>\n",
              "    <tr>\n",
              "      <th>6345</th>\n",
              "      <td>1</td>\n",
              "      <td>2</td>\n",
              "      <td>3</td>\n",
              "      <td>6.0</td>\n",
              "      <td>2</td>\n",
              "      <td>3.0</td>\n",
              "      <td>2</td>\n",
              "    </tr>\n",
              "    <tr>\n",
              "      <th>4162</th>\n",
              "      <td>2</td>\n",
              "      <td>3</td>\n",
              "      <td>1</td>\n",
              "      <td>6.0</td>\n",
              "      <td>3</td>\n",
              "      <td>1.0</td>\n",
              "      <td>0</td>\n",
              "    </tr>\n",
              "    <tr>\n",
              "      <th>5713</th>\n",
              "      <td>1</td>\n",
              "      <td>2</td>\n",
              "      <td>3</td>\n",
              "      <td>6.0</td>\n",
              "      <td>2</td>\n",
              "      <td>3.0</td>\n",
              "      <td>0</td>\n",
              "    </tr>\n",
              "    <tr>\n",
              "      <th>6070</th>\n",
              "      <td>2</td>\n",
              "      <td>2</td>\n",
              "      <td>3</td>\n",
              "      <td>6.0</td>\n",
              "      <td>2</td>\n",
              "      <td>1.0</td>\n",
              "      <td>0</td>\n",
              "    </tr>\n",
              "    <tr>\n",
              "      <th>3945</th>\n",
              "      <td>3</td>\n",
              "      <td>3</td>\n",
              "      <td>3</td>\n",
              "      <td>6.0</td>\n",
              "      <td>3</td>\n",
              "      <td>3.0</td>\n",
              "      <td>0</td>\n",
              "    </tr>\n",
              "    <tr>\n",
              "      <th>3256</th>\n",
              "      <td>3</td>\n",
              "      <td>3</td>\n",
              "      <td>1</td>\n",
              "      <td>6.0</td>\n",
              "      <td>3</td>\n",
              "      <td>3.0</td>\n",
              "      <td>0</td>\n",
              "    </tr>\n",
              "    <tr>\n",
              "      <th>5837</th>\n",
              "      <td>1</td>\n",
              "      <td>2</td>\n",
              "      <td>3</td>\n",
              "      <td>6.0</td>\n",
              "      <td>2</td>\n",
              "      <td>3.0</td>\n",
              "      <td>2</td>\n",
              "    </tr>\n",
              "  </tbody>\n",
              "</table>\n",
              "</div>\n",
              "      <button class=\"colab-df-convert\" onclick=\"convertToInteractive('df-27a5eb09-46c3-4eaa-b0f5-0e3887327767')\"\n",
              "              title=\"Convert this dataframe to an interactive table.\"\n",
              "              style=\"display:none;\">\n",
              "        \n",
              "  <svg xmlns=\"http://www.w3.org/2000/svg\" height=\"24px\"viewBox=\"0 0 24 24\"\n",
              "       width=\"24px\">\n",
              "    <path d=\"M0 0h24v24H0V0z\" fill=\"none\"/>\n",
              "    <path d=\"M18.56 5.44l.94 2.06.94-2.06 2.06-.94-2.06-.94-.94-2.06-.94 2.06-2.06.94zm-11 1L8.5 8.5l.94-2.06 2.06-.94-2.06-.94L8.5 2.5l-.94 2.06-2.06.94zm10 10l.94 2.06.94-2.06 2.06-.94-2.06-.94-.94-2.06-.94 2.06-2.06.94z\"/><path d=\"M17.41 7.96l-1.37-1.37c-.4-.4-.92-.59-1.43-.59-.52 0-1.04.2-1.43.59L10.3 9.45l-7.72 7.72c-.78.78-.78 2.05 0 2.83L4 21.41c.39.39.9.59 1.41.59.51 0 1.02-.2 1.41-.59l7.78-7.78 2.81-2.81c.8-.78.8-2.07 0-2.86zM5.41 20L4 18.59l7.72-7.72 1.47 1.35L5.41 20z\"/>\n",
              "  </svg>\n",
              "      </button>\n",
              "      \n",
              "  <style>\n",
              "    .colab-df-container {\n",
              "      display:flex;\n",
              "      flex-wrap:wrap;\n",
              "      gap: 12px;\n",
              "    }\n",
              "\n",
              "    .colab-df-convert {\n",
              "      background-color: #E8F0FE;\n",
              "      border: none;\n",
              "      border-radius: 50%;\n",
              "      cursor: pointer;\n",
              "      display: none;\n",
              "      fill: #1967D2;\n",
              "      height: 32px;\n",
              "      padding: 0 0 0 0;\n",
              "      width: 32px;\n",
              "    }\n",
              "\n",
              "    .colab-df-convert:hover {\n",
              "      background-color: #E2EBFA;\n",
              "      box-shadow: 0px 1px 2px rgba(60, 64, 67, 0.3), 0px 1px 3px 1px rgba(60, 64, 67, 0.15);\n",
              "      fill: #174EA6;\n",
              "    }\n",
              "\n",
              "    [theme=dark] .colab-df-convert {\n",
              "      background-color: #3B4455;\n",
              "      fill: #D2E3FC;\n",
              "    }\n",
              "\n",
              "    [theme=dark] .colab-df-convert:hover {\n",
              "      background-color: #434B5C;\n",
              "      box-shadow: 0px 1px 3px 1px rgba(0, 0, 0, 0.15);\n",
              "      filter: drop-shadow(0px 1px 2px rgba(0, 0, 0, 0.3));\n",
              "      fill: #FFFFFF;\n",
              "    }\n",
              "  </style>\n",
              "\n",
              "      <script>\n",
              "        const buttonEl =\n",
              "          document.querySelector('#df-27a5eb09-46c3-4eaa-b0f5-0e3887327767 button.colab-df-convert');\n",
              "        buttonEl.style.display =\n",
              "          google.colab.kernel.accessAllowed ? 'block' : 'none';\n",
              "\n",
              "        async function convertToInteractive(key) {\n",
              "          const element = document.querySelector('#df-27a5eb09-46c3-4eaa-b0f5-0e3887327767');\n",
              "          const dataTable =\n",
              "            await google.colab.kernel.invokeFunction('convertToInteractive',\n",
              "                                                     [key], {});\n",
              "          if (!dataTable) return;\n",
              "\n",
              "          const docLinkHtml = 'Like what you see? Visit the ' +\n",
              "            '<a target=\"_blank\" href=https://colab.research.google.com/notebooks/data_table.ipynb>data table notebook</a>'\n",
              "            + ' to learn more about interactive tables.';\n",
              "          element.innerHTML = '';\n",
              "          dataTable['output_type'] = 'display_data';\n",
              "          await google.colab.output.renderOutput(dataTable, element);\n",
              "          const docLink = document.createElement('div');\n",
              "          docLink.innerHTML = docLinkHtml;\n",
              "          element.appendChild(docLink);\n",
              "        }\n",
              "      </script>\n",
              "    </div>\n",
              "  </div>\n",
              "  "
            ]
          },
          "metadata": {},
          "execution_count": 35
        }
      ],
      "source": [
        "X_train.head(10)"
      ]
    },
    {
      "cell_type": "code",
      "execution_count": null,
      "metadata": {
        "id": "u3ZR2mSG69o3",
        "colab": {
          "base_uri": "https://localhost:8080/"
        },
        "outputId": "f8fb6f0f-4ca1-4916-d8bf-a58ce31f2cd7"
      },
      "outputs": [
        {
          "output_type": "stream",
          "name": "stderr",
          "text": [
            "/usr/local/lib/python3.7/dist-packages/sklearn/linear_model/_logistic.py:818: ConvergenceWarning: lbfgs failed to converge (status=1):\n",
            "STOP: TOTAL NO. of ITERATIONS REACHED LIMIT.\n",
            "\n",
            "Increase the number of iterations (max_iter) or scale the data as shown in:\n",
            "    https://scikit-learn.org/stable/modules/preprocessing.html\n",
            "Please also refer to the documentation for alternative solver options:\n",
            "    https://scikit-learn.org/stable/modules/linear_model.html#logistic-regression\n",
            "  extra_warning_msg=_LOGISTIC_SOLVER_CONVERGENCE_MSG,\n"
          ]
        },
        {
          "output_type": "execute_result",
          "data": {
            "text/plain": [
              "48.35"
            ]
          },
          "metadata": {},
          "execution_count": 36
        }
      ],
      "source": [
        "#LogisticRegression\n",
        "logreg = LogisticRegression()\n",
        "logreg.fit(X_train, y_train)\n",
        "\n",
        "Y_pred = logreg.predict(X_test)\n",
        "\n",
        "acc_log = round(logreg.score(X_train, y_train) * 100, 2)\n",
        "acc_log"
      ]
    },
    {
      "cell_type": "code",
      "execution_count": null,
      "metadata": {
        "id": "3ARgo9AEP7EM",
        "colab": {
          "base_uri": "https://localhost:8080/"
        },
        "outputId": "4ebcd597-6d19-4639-8050-c68572ba42ad"
      },
      "outputs": [
        {
          "output_type": "execute_result",
          "data": {
            "text/plain": [
              "57.72"
            ]
          },
          "metadata": {},
          "execution_count": 37
        }
      ],
      "source": [
        "#DecisionTreeClassifier\n",
        "decision_tree = DecisionTreeClassifier() \n",
        "decision_tree.fit(X_train, y_train)  \n",
        "Y_pred = decision_tree.predict(X_test)  \n",
        "acc_decision_tree = round(decision_tree.score(X_train, y_train) * 100, 2)\n",
        "acc_decision_tree\n"
      ]
    },
    {
      "cell_type": "code",
      "execution_count": null,
      "metadata": {
        "id": "lvNro0j7OHUA",
        "colab": {
          "base_uri": "https://localhost:8080/"
        },
        "outputId": "1d10e334-6caf-4022-bb9e-880e010bf94b"
      },
      "outputs": [
        {
          "output_type": "execute_result",
          "data": {
            "text/plain": [
              "52.02"
            ]
          },
          "metadata": {},
          "execution_count": 38
        }
      ],
      "source": [
        "#KNeighborsClassifier\n",
        "knn = KNeighborsClassifier(n_neighbors = 3) \n",
        "knn.fit(X_train, y_train)  \n",
        "Y_pred = knn.predict(X_test)  \n",
        "acc_knn = round(knn.score(X_train, y_train) * 100, 2)\n",
        "acc_knn"
      ]
    },
    {
      "cell_type": "code",
      "execution_count": null,
      "metadata": {
        "id": "wLlr4aKIQG4t",
        "colab": {
          "base_uri": "https://localhost:8080/"
        },
        "outputId": "e7479183-0807-41f9-c04c-27d909fb1a93"
      },
      "outputs": [
        {
          "output_type": "stream",
          "name": "stderr",
          "text": [
            "/usr/local/lib/python3.7/dist-packages/sklearn/svm/_base.py:1208: ConvergenceWarning: Liblinear failed to converge, increase the number of iterations.\n",
            "  ConvergenceWarning,\n"
          ]
        },
        {
          "output_type": "execute_result",
          "data": {
            "text/plain": [
              "48.65"
            ]
          },
          "metadata": {},
          "execution_count": 39
        }
      ],
      "source": [
        "#LinearSVC\n",
        "linear_svc = LinearSVC()\n",
        "linear_svc.fit(X_train, y_train)\n",
        "\n",
        "Y_pred = linear_svc.predict(X_test)\n",
        "\n",
        "acc_linear_svc = round(linear_svc.score(X_train, y_train) * 100, 2)\n",
        "acc_linear_svc\n"
      ]
    },
    {
      "cell_type": "code",
      "execution_count": null,
      "metadata": {
        "id": "-AXWOg_WQMeM",
        "colab": {
          "base_uri": "https://localhost:8080/"
        },
        "outputId": "4e5b14dd-0ee3-4be5-b60e-70a01a0cdd0b"
      },
      "outputs": [
        {
          "output_type": "stream",
          "name": "stderr",
          "text": [
            "/usr/local/lib/python3.7/dist-packages/sklearn/linear_model/_stochastic_gradient.py:700: ConvergenceWarning: Maximum number of iteration reached before convergence. Consider increasing max_iter to improve the fit.\n",
            "  ConvergenceWarning,\n"
          ]
        },
        {
          "output_type": "execute_result",
          "data": {
            "text/plain": [
              "46.38"
            ]
          },
          "metadata": {},
          "execution_count": 40
        }
      ],
      "source": [
        "#Perceptron\n",
        "perceptron = Perceptron(max_iter=5)\n",
        "perceptron.fit(X_train, y_train)\n",
        "\n",
        "Y_pred = perceptron.predict(X_test)\n",
        "\n",
        "acc_perceptron = round(perceptron.score(X_train, y_train) * 100, 2)\n",
        "acc_perceptron\n"
      ]
    },
    {
      "cell_type": "code",
      "execution_count": null,
      "metadata": {
        "id": "qkEGbyBGQO4E",
        "colab": {
          "base_uri": "https://localhost:8080/"
        },
        "outputId": "f038d043-a6a3-494e-85c2-0090b2294589"
      },
      "outputs": [
        {
          "output_type": "execute_result",
          "data": {
            "text/plain": [
              "47.02"
            ]
          },
          "metadata": {},
          "execution_count": 41
        }
      ],
      "source": [
        "#GaussianNB\n",
        "gaussian = GaussianNB() \n",
        "gaussian.fit(X_train, y_train)  \n",
        "Y_pred = gaussian.predict(X_test)  \n",
        "acc_gaussian = round(gaussian.score(X_train, y_train) * 100, 2)\n",
        "acc_gaussian\n"
      ]
    },
    {
      "cell_type": "code",
      "execution_count": null,
      "metadata": {
        "id": "TVrXlXCjQVo2",
        "colab": {
          "base_uri": "https://localhost:8080/"
        },
        "outputId": "75bdc4c9-6a4c-4d69-ea20-b830f5a68901"
      },
      "outputs": [
        {
          "output_type": "execute_result",
          "data": {
            "text/plain": [
              "45.06"
            ]
          },
          "metadata": {},
          "execution_count": 42
        }
      ],
      "source": [
        "#SGDClassifier\n",
        "sgd = linear_model.SGDClassifier(max_iter=5, tol=None)\n",
        "sgd.fit(X_train, y_train)\n",
        "Y_pred = sgd.predict(X_test)\n",
        "\n",
        "sgd.score(X_train, y_train)\n",
        "\n",
        "acc_sgd = round(sgd.score(X_train, y_train) * 100, 2)\n",
        "acc_sgd\n"
      ]
    },
    {
      "cell_type": "code",
      "execution_count": null,
      "metadata": {
        "id": "QjoJH-kDQv7u"
      },
      "outputs": [],
      "source": [
        "#RandomForestClassifier\n",
        "random_forest = RandomForestClassifier(n_estimators=100)\n",
        "random_forest.fit(X_train, y_train)\n",
        "\n",
        "Y_prediction = random_forest.predict(X_test)\n",
        "\n",
        "random_forest.score(X_train, y_train)\n",
        "acc_random_forest = round(random_forest.score(X_train, y_train) * 100, 2)\n"
      ]
    },
    {
      "cell_type": "code",
      "execution_count": null,
      "metadata": {
        "id": "XvdwbV62QcUG",
        "colab": {
          "base_uri": "https://localhost:8080/",
          "height": 328
        },
        "outputId": "168fbb8a-a513-4d6e-a704-a0799fb0e455"
      },
      "outputs": [
        {
          "output_type": "execute_result",
          "data": {
            "text/plain": [
              "                            Model\n",
              "Score                            \n",
              "57.72               Random Forest\n",
              "57.72               Decision Tree\n",
              "52.02                         KNN\n",
              "48.65     Support Vector Machines\n",
              "48.35         Logistic Regression\n",
              "47.02                 Naive Bayes\n",
              "46.38                  Perceptron\n",
              "45.06  Stochastic Gradient Decent"
            ],
            "text/html": [
              "\n",
              "  <div id=\"df-0dc9c4a8-c734-47c1-93d5-d00784ee6034\">\n",
              "    <div class=\"colab-df-container\">\n",
              "      <div>\n",
              "<style scoped>\n",
              "    .dataframe tbody tr th:only-of-type {\n",
              "        vertical-align: middle;\n",
              "    }\n",
              "\n",
              "    .dataframe tbody tr th {\n",
              "        vertical-align: top;\n",
              "    }\n",
              "\n",
              "    .dataframe thead th {\n",
              "        text-align: right;\n",
              "    }\n",
              "</style>\n",
              "<table border=\"1\" class=\"dataframe\">\n",
              "  <thead>\n",
              "    <tr style=\"text-align: right;\">\n",
              "      <th></th>\n",
              "      <th>Model</th>\n",
              "    </tr>\n",
              "    <tr>\n",
              "      <th>Score</th>\n",
              "      <th></th>\n",
              "    </tr>\n",
              "  </thead>\n",
              "  <tbody>\n",
              "    <tr>\n",
              "      <th>57.72</th>\n",
              "      <td>Random Forest</td>\n",
              "    </tr>\n",
              "    <tr>\n",
              "      <th>57.72</th>\n",
              "      <td>Decision Tree</td>\n",
              "    </tr>\n",
              "    <tr>\n",
              "      <th>52.02</th>\n",
              "      <td>KNN</td>\n",
              "    </tr>\n",
              "    <tr>\n",
              "      <th>48.65</th>\n",
              "      <td>Support Vector Machines</td>\n",
              "    </tr>\n",
              "    <tr>\n",
              "      <th>48.35</th>\n",
              "      <td>Logistic Regression</td>\n",
              "    </tr>\n",
              "    <tr>\n",
              "      <th>47.02</th>\n",
              "      <td>Naive Bayes</td>\n",
              "    </tr>\n",
              "    <tr>\n",
              "      <th>46.38</th>\n",
              "      <td>Perceptron</td>\n",
              "    </tr>\n",
              "    <tr>\n",
              "      <th>45.06</th>\n",
              "      <td>Stochastic Gradient Decent</td>\n",
              "    </tr>\n",
              "  </tbody>\n",
              "</table>\n",
              "</div>\n",
              "      <button class=\"colab-df-convert\" onclick=\"convertToInteractive('df-0dc9c4a8-c734-47c1-93d5-d00784ee6034')\"\n",
              "              title=\"Convert this dataframe to an interactive table.\"\n",
              "              style=\"display:none;\">\n",
              "        \n",
              "  <svg xmlns=\"http://www.w3.org/2000/svg\" height=\"24px\"viewBox=\"0 0 24 24\"\n",
              "       width=\"24px\">\n",
              "    <path d=\"M0 0h24v24H0V0z\" fill=\"none\"/>\n",
              "    <path d=\"M18.56 5.44l.94 2.06.94-2.06 2.06-.94-2.06-.94-.94-2.06-.94 2.06-2.06.94zm-11 1L8.5 8.5l.94-2.06 2.06-.94-2.06-.94L8.5 2.5l-.94 2.06-2.06.94zm10 10l.94 2.06.94-2.06 2.06-.94-2.06-.94-.94-2.06-.94 2.06-2.06.94z\"/><path d=\"M17.41 7.96l-1.37-1.37c-.4-.4-.92-.59-1.43-.59-.52 0-1.04.2-1.43.59L10.3 9.45l-7.72 7.72c-.78.78-.78 2.05 0 2.83L4 21.41c.39.39.9.59 1.41.59.51 0 1.02-.2 1.41-.59l7.78-7.78 2.81-2.81c.8-.78.8-2.07 0-2.86zM5.41 20L4 18.59l7.72-7.72 1.47 1.35L5.41 20z\"/>\n",
              "  </svg>\n",
              "      </button>\n",
              "      \n",
              "  <style>\n",
              "    .colab-df-container {\n",
              "      display:flex;\n",
              "      flex-wrap:wrap;\n",
              "      gap: 12px;\n",
              "    }\n",
              "\n",
              "    .colab-df-convert {\n",
              "      background-color: #E8F0FE;\n",
              "      border: none;\n",
              "      border-radius: 50%;\n",
              "      cursor: pointer;\n",
              "      display: none;\n",
              "      fill: #1967D2;\n",
              "      height: 32px;\n",
              "      padding: 0 0 0 0;\n",
              "      width: 32px;\n",
              "    }\n",
              "\n",
              "    .colab-df-convert:hover {\n",
              "      background-color: #E2EBFA;\n",
              "      box-shadow: 0px 1px 2px rgba(60, 64, 67, 0.3), 0px 1px 3px 1px rgba(60, 64, 67, 0.15);\n",
              "      fill: #174EA6;\n",
              "    }\n",
              "\n",
              "    [theme=dark] .colab-df-convert {\n",
              "      background-color: #3B4455;\n",
              "      fill: #D2E3FC;\n",
              "    }\n",
              "\n",
              "    [theme=dark] .colab-df-convert:hover {\n",
              "      background-color: #434B5C;\n",
              "      box-shadow: 0px 1px 3px 1px rgba(0, 0, 0, 0.15);\n",
              "      filter: drop-shadow(0px 1px 2px rgba(0, 0, 0, 0.3));\n",
              "      fill: #FFFFFF;\n",
              "    }\n",
              "  </style>\n",
              "\n",
              "      <script>\n",
              "        const buttonEl =\n",
              "          document.querySelector('#df-0dc9c4a8-c734-47c1-93d5-d00784ee6034 button.colab-df-convert');\n",
              "        buttonEl.style.display =\n",
              "          google.colab.kernel.accessAllowed ? 'block' : 'none';\n",
              "\n",
              "        async function convertToInteractive(key) {\n",
              "          const element = document.querySelector('#df-0dc9c4a8-c734-47c1-93d5-d00784ee6034');\n",
              "          const dataTable =\n",
              "            await google.colab.kernel.invokeFunction('convertToInteractive',\n",
              "                                                     [key], {});\n",
              "          if (!dataTable) return;\n",
              "\n",
              "          const docLinkHtml = 'Like what you see? Visit the ' +\n",
              "            '<a target=\"_blank\" href=https://colab.research.google.com/notebooks/data_table.ipynb>data table notebook</a>'\n",
              "            + ' to learn more about interactive tables.';\n",
              "          element.innerHTML = '';\n",
              "          dataTable['output_type'] = 'display_data';\n",
              "          await google.colab.output.renderOutput(dataTable, element);\n",
              "          const docLink = document.createElement('div');\n",
              "          docLink.innerHTML = docLinkHtml;\n",
              "          element.appendChild(docLink);\n",
              "        }\n",
              "      </script>\n",
              "    </div>\n",
              "  </div>\n",
              "  "
            ]
          },
          "metadata": {},
          "execution_count": 44
        }
      ],
      "source": [
        "#DataFrame tổng hợp kết quả của mô hình dự đoán\n",
        "results = pd.DataFrame({\n",
        "    'Model': ['Support Vector Machines', 'KNN', 'Logistic Regression', \n",
        "              'Random Forest', 'Naive Bayes', 'Perceptron', \n",
        "              'Stochastic Gradient Decent', \n",
        "              'Decision Tree'],\n",
        "    'Score': [acc_linear_svc, acc_knn, acc_log, \n",
        "              acc_random_forest, acc_gaussian, acc_perceptron, \n",
        "              acc_sgd, acc_decision_tree]})\n",
        "result_df = results.sort_values(by='Score', ascending=False)\n",
        "result_df = result_df.set_index('Score')\n",
        "result_df.head(9)"
      ]
    },
    {
      "cell_type": "markdown",
      "source": [
        "# Kết luận\n",
        "1. Mô hình được lựa chọn là Random Forest và Decision Tree với kết quả vượt qua mức yêu cầu là 50% -> Không cần phải sự dụng cột Material và Manufacturer.\n",
        "2. Các cột có thể bỏ đi mà không làm ảnh hưởng đến lượt view là: phần Engine trong cột Type, Material và Manufacturer."
      ],
      "metadata": {
        "id": "v0zVwNbsenG-"
      }
    }
  ],
  "metadata": {
    "colab": {
      "collapsed_sections": [],
      "name": "Dự án nghiên cứu - Boat Listing Survey.ipynb",
      "provenance": [],
      "toc_visible": true
    },
    "kernelspec": {
      "display_name": "Python 3",
      "name": "python3"
    },
    "language_info": {
      "name": "python"
    }
  },
  "nbformat": 4,
  "nbformat_minor": 0
}